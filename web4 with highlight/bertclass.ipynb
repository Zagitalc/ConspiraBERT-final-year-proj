{
 "cells": [
  {
   "cell_type": "code",
   "execution_count": 1,
   "metadata": {},
   "outputs": [],
   "source": [
    "#simple bert classifier\n"
   ]
  },
  {
   "cell_type": "code",
   "execution_count": 3,
   "metadata": {},
   "outputs": [],
   "source": [
    "#  !pip3 install torch torchvision torchaudio --index-url https://download.pytorch.org/whl/cu118"
   ]
  },
  {
   "cell_type": "code",
   "execution_count": 1,
   "metadata": {},
   "outputs": [
    {
     "data": {
      "text/plain": [
       "True"
      ]
     },
     "execution_count": 1,
     "metadata": {},
     "output_type": "execute_result"
    }
   ],
   "source": [
    "import torch\n",
    "\n",
    "# If there's a GPU available...\n",
    "torch.cuda.is_available()    \n"
   ]
  },
  {
   "cell_type": "code",
   "execution_count": 2,
   "metadata": {},
   "outputs": [],
   "source": [
    "import re\n",
    "import matplotlib.pyplot as plt\n",
    "import numpy as np\n",
    "import nltk\n",
    "import pandas as pd\n",
    "from torch.utils.data import Dataset\n",
    "from sklearn.model_selection import train_test_split\n",
    "from transformers import BertTokenizer, BertForSequenceClassification, Trainer, TrainingArguments\n"
   ]
  },
  {
   "cell_type": "code",
   "execution_count": 7,
   "metadata": {},
   "outputs": [],
   "source": [
    "df=pd.read_json('yt_training_set.json')\n",
    "\n",
    "df = pd.DataFrame(df)\n",
    "# print(df)\n",
    "\n",
    "#drop missing values\n",
    "columns_to_dropna = [\"title\", \"channel_title\", \"view_count\", \"tags\", \"description\", \"label\"]\n",
    "\n",
    "# dropna method drop rows with missing values \n",
    "filtered_data = df.dropna(subset=columns_to_dropna, how='any')\n",
    "\n",
    "# print(filtered_data)\n",
    "new_df=pd.DataFrame(filtered_data)\n",
    "\n",
    "\n",
    "\n",
    "new_dataframe= pd.DataFrame({'title': new_df[\"title\"].values,\"channel_title\": new_df[\"channel_title\"].values,\"view_count\":new_df[\"view_count\"].values,\"tags\":new_df[\"tags\"].values,\"description\":new_df[\"description\"].values,'label': new_df[\"label\"].values})\n",
    "# print(new_dataframe)\n",
    "new_df=new_dataframe\n",
    "\n",
    "\n",
    "# Convert the data to a pandas DataFrame\n",
    "df_concat = pd.DataFrame(columns=[\"text\", \"label\"])\n",
    "\n",
    "\n",
    "for entry in new_df.index:\n",
    "    \n",
    "    title=new_df[\"title\"].get(entry) \n",
    "    # print(title)\n",
    "    \n",
    "    channel_title=new_df[\"channel_title\"].get(entry)\n",
    "    \n",
    "    tags=\" \".join(new_df[\"tags\"].get(entry ,[]))\n",
    "    description=new_df[\"description\"].get(entry)\n",
    "    \n",
    "    label=new_df[\"label\"].get(entry)\n",
    "\n",
    "    \n",
    "    \n",
    "\n",
    "    concat_text = f\"{title} {channel_title} {tags} {description}\"\n",
    "    # concat_text=re.sub(\"(http\\S+)\", \"\", concat_text)\n",
    "    \n",
    "    new_row = pd.DataFrame({\"text\": [concat_text], \"label\": [label]})\n",
    "    df_concat = pd.concat([df_concat, new_row], ignore_index=True)\n",
    "\n",
    "# relabel the labels. \n",
    "#-1  replaced by 0, and  1 will be unchanged. \n",
    "df_concat['label'] = df_concat['label'].map({-1: 0, 1: 1})\n",
    "\n"
   ]
  },
  {
   "cell_type": "code",
   "execution_count": 6,
   "metadata": {},
   "outputs": [
    {
     "name": "stdout",
     "output_type": "stream",
     "text": [
      "                                               sentence label\n",
      "0     The Second Book of Enoch (Human Voice, Read-Al...     0\n",
      "1     By subscribing to my channel, along with likin...     0\n",
      "2     SUBSCRIBE HERE: https://www.youtube.com/user/A...     0\n",
      "3     This is not a work of fiction, but a genuine G...     0\n",
      "4     The mere fact that it can be done at all is mo...     0\n",
      "...                                                 ...   ...\n",
      "7388  Box 2458\\nAnaheim, CA 92814\\n\\n▬▬▬▬▬▬▬▬▬▬▬▬▬\\n...     0\n",
      "7389  Hurricane Dorian Scenarios: Breaking Down Stor...     0\n",
      "7390  (Note: This video was recorded at 1 p.m. on Fr...     0\n",
      "7391  For real-time updates on Hurricane Dorian, go ...     0\n",
      "7392  NBC 6 provides news, weather, traffic and spor...     0\n",
      "\n",
      "[7393 rows x 2 columns]\n",
      "(7393, 2)\n"
     ]
    }
   ],
   "source": [
    "\n",
    "# df_split: sentence and label\n",
    "df_split = pd.DataFrame(columns=[\"sentence\", \"label\"])\n",
    "\n",
    "# Loop over the index of df_concat\n",
    "for item in df_concat.index:\n",
    "    \n",
    "    \n",
    "    text = df_concat[\"text\"].get(item)\n",
    "    label = df_concat[\"label\"].get(item)\n",
    "    \n",
    "    # Split the text into sentences \n",
    "    sentences = nltk.sent_tokenize(text)\n",
    "    \n",
    "    # Loop over the sentences\n",
    "    for sentence in sentences:\n",
    "        \n",
    "        df_split = pd.concat([df_split, pd.DataFrame({\"sentence\": [sentence], \"label\": [label]})], ignore_index=True)\n",
    "\n",
    "# Print the df_split data frame\n",
    "print(df_split)\n",
    "print(df_split.shape)\n"
   ]
  },
  {
   "cell_type": "code",
   "execution_count": 14,
   "metadata": {},
   "outputs": [],
   "source": [
    "\n",
    "#! column name chnaged to sentence\n",
    "X = df_split[\"sentence\"].tolist()\n",
    "y = df_split['label'].tolist()\n",
    "# Split the data into training and testing sets\n",
    "train_texts, test_texts, train_labels, test_labels = train_test_split(X,y, test_size=0.2)\n"
   ]
  },
  {
   "cell_type": "code",
   "execution_count": 15,
   "metadata": {},
   "outputs": [],
   "source": [
    "\n",
    "# Initialize the tokenizer\n",
    "tokenizer = BertTokenizer.from_pretrained('bert-base-cased')\n",
    "\n",
    "train_encodings = tokenizer(train_texts, truncation=True, padding=True, max_length=512)\n",
    "test_encodings = tokenizer(test_texts, truncation=True, padding=True, max_length=512)\n",
    "\n",
    "\n"
   ]
  },
  {
   "cell_type": "code",
   "execution_count": 19,
   "metadata": {},
   "outputs": [],
   "source": [
    "class CustomDataset(Dataset):\n",
    "    def __init__(self, encodings, labels):\n",
    "        self.encodings = encodings\n",
    "        self.labels = labels\n",
    "\n",
    "    def __getitem__(self, idx):\n",
    "        item = {key: torch.tensor(val[idx]) for key, val in self.encodings.items()}\n",
    "        item['labels'] = torch.tensor(self.labels[idx])\n",
    "        return item\n",
    "\n",
    "    def __len__(self):\n",
    "        return len(self.labels)\n",
    "    \n",
    "\n",
    "# Create the datasets\n",
    "train_dataset = CustomDataset(train_encodings, train_labels)\n",
    "test_dataset = CustomDataset(test_encodings, test_labels)\n",
    "\n",
    "\n"
   ]
  },
  {
   "cell_type": "code",
   "execution_count": 20,
   "metadata": {},
   "outputs": [
    {
     "name": "stderr",
     "output_type": "stream",
     "text": [
      "Some weights of BertForSequenceClassification were not initialized from the model checkpoint at bert-base-cased and are newly initialized: ['classifier.bias', 'classifier.weight']\n",
      "You should probably TRAIN this model on a down-stream task to be able to use it for predictions and inference.\n"
     ]
    },
    {
     "data": {
      "application/vnd.jupyter.widget-view+json": {
       "model_id": "6cf172aa4af24856a6c4a4b84c1ac69f",
       "version_major": 2,
       "version_minor": 0
      },
      "text/plain": [
       "  0%|          | 0/3700 [00:00<?, ?it/s]"
      ]
     },
     "metadata": {},
     "output_type": "display_data"
    },
    {
     "name": "stdout",
     "output_type": "stream",
     "text": [
      "{'loss': 0.4767, 'learning_rate': 1.72972972972973e-05, 'epoch': 2.7}\n",
      "{'loss': 0.1376, 'learning_rate': 1.4594594594594596e-05, 'epoch': 5.41}\n",
      "{'loss': 0.0614, 'learning_rate': 1.1891891891891894e-05, 'epoch': 8.11}\n",
      "{'loss': 0.0407, 'learning_rate': 9.189189189189191e-06, 'epoch': 10.81}\n",
      "{'loss': 0.0309, 'learning_rate': 6.486486486486487e-06, 'epoch': 13.51}\n",
      "{'loss': 0.0271, 'learning_rate': 3.7837837837837844e-06, 'epoch': 16.22}\n",
      "{'loss': 0.0229, 'learning_rate': 1.0810810810810812e-06, 'epoch': 18.92}\n",
      "{'train_runtime': 56203.5335, 'train_samples_per_second': 2.104, 'train_steps_per_second': 0.066, 'train_loss': 0.1088173642674008, 'epoch': 20.0}\n"
     ]
    },
    {
     "data": {
      "application/vnd.jupyter.widget-view+json": {
       "model_id": "52a8feed203f4691a411fdca871428bb",
       "version_major": 2,
       "version_minor": 0
      },
      "text/plain": [
       "  0%|          | 0/185 [00:00<?, ?it/s]"
      ]
     },
     "metadata": {},
     "output_type": "display_data"
    },
    {
     "name": "stdout",
     "output_type": "stream",
     "text": [
      "{'eval_loss': 1.4830132722854614, 'eval_accuracy': 0.7701149425287356, 'eval_f1': 0.7546897546897547, 'eval_precision': 0.7805970149253731, 'eval_recall': 0.7304469273743017, 'eval_roc-auc': 0.7688931884577931, 'eval_runtime': 173.4484, 'eval_samples_per_second': 8.527, 'eval_steps_per_second': 1.067, 'epoch': 20.0}\n"
     ]
    }
   ],
   "source": [
    "from sklearn.metrics import accuracy_score, precision_recall_fscore_support,roc_auc_score\n",
    "\n",
    "# Initialization of BERT \n",
    "model = BertForSequenceClassification.from_pretrained('bert-base-cased', num_labels=2)  \n",
    "def compute_metrics(eval_pred):\n",
    "    logits, labels = eval_pred\n",
    "    predictions = np.argmax(logits, axis=-1)\n",
    "    precision, recall, f1, _ = precision_recall_fscore_support(labels, predictions, average='binary')\n",
    "    acc = accuracy_score(labels, predictions)\n",
    "    auc = roc_auc_score(labels, predictions) \n",
    "    return {\n",
    "        'accuracy': acc,\n",
    "        'f1': f1,\n",
    "        'precision': precision,\n",
    "        'recall': recall,\n",
    "        'roc-auc': auc # Added roc-auc\n",
    "    }\n",
    "\n",
    "# training arguments\n",
    "training_args = TrainingArguments(\n",
    "    output_dir='./results',\n",
    "    num_train_epochs=20,\n",
    "    per_device_train_batch_size=16,\n",
    "    gradient_accumulation_steps=2,\n",
    "    learning_rate=2e-5,  \n",
    ")\n",
    "\n",
    "# Create the trainer and train the model\n",
    "trainer = Trainer(\n",
    "    model=model,\n",
    "    args=training_args,\n",
    "    train_dataset=train_dataset,\n",
    "    eval_dataset=test_dataset,\n",
    "    compute_metrics=compute_metrics,\n",
    ")\n",
    "\n",
    "trainer.train()\n",
    "\n",
    "\n",
    "# Evaluate the model\n",
    "eval_results = trainer.evaluate()\n",
    "\n",
    "print(eval_results)\n",
    "# {'eval_loss': 0.5771334767341614, 'eval_accuracy': 0.715, 'eval_f1': 0.6459627329192545,\n",
    "#  'eval_precision': 0.7323943661971831, 'eval_recall': 0.5777777777777777, 'eval_runtime': 23.6281, \n",
    "# 'eval_samples_per_second': 8.465, 'eval_steps_per_second': 1.058, 'epoch': 3.0}\n",
    "\n",
    "# {'eval_loss': 1.118485450744629, 'eval_accuracy': 0.775, 'eval_f1': 0.7513812154696132, \n",
    "# 'eval_precision': 0.8292682926829268, 'eval_recall': 0.6868686868686869, 'eval_roc-auc': 0.7741274127412741,\n",
    "#  'eval_runtime': 23.5848, 'eval_samples_per_second': 8.48, 'eval_steps_per_second': 1.06, 'epoch': 10.0}\n",
    "# 'eval_loss': 1.1889441013336182, 'eval_accuracy': 0.805, 'eval_f1': 0.7745664739884391, \n",
    "# 'eval_precision': 0.8589743589743589, 'eval_recall': 0.7052631578947368, 'eval_roc-auc': 0.800250626566416,\n",
    "#  'eval_runtime': 23.4499, 'eval_samples_per_second': 8.529, 'eval_steps_per_second': 1.066, 'epoch': 20.0}"
   ]
  },
  {
   "cell_type": "code",
   "execution_count": 21,
   "metadata": {},
   "outputs": [],
   "source": [
    "# Save the model\n",
    "\n",
    "# Specify the path\n",
    "model_path = \"models\"\n",
    "tokenizer_path = \"models\"\n",
    "\n",
    "# Save the model and tokenizer\n",
    "\n",
    "tokenizer.save_pretrained(tokenizer_path)\n",
    "\n",
    "trainer.save_model(model_path)\n",
    "\n",
    "\n"
   ]
  },
  {
   "cell_type": "code",
   "execution_count": 22,
   "metadata": {},
   "outputs": [
    {
     "data": {
      "application/vnd.jupyter.widget-view+json": {
       "model_id": "a9912437634a4ef5812592f9c5e12539",
       "version_major": 2,
       "version_minor": 0
      },
      "text/plain": [
       "  0%|          | 0/185 [00:00<?, ?it/s]"
      ]
     },
     "metadata": {},
     "output_type": "display_data"
    },
    {
     "name": "stdout",
     "output_type": "stream",
     "text": [
      "{'eval_loss': 1.4830132722854614, 'eval_accuracy': 0.7701149425287356, 'eval_f1': 0.7546897546897547, 'eval_precision': 0.7805970149253731, 'eval_recall': 0.7304469273743017, 'eval_roc-auc': 0.7688931884577931, 'eval_runtime': 176.0924, 'eval_samples_per_second': 8.399, 'eval_steps_per_second': 1.051, 'epoch': 20.0}\n"
     ]
    },
    {
     "ename": "",
     "evalue": "",
     "output_type": "error",
     "traceback": [
      "\u001b[1;31mThe Kernel crashed while executing code in the the current cell or a previous cell. Please review the code in the cell(s) to identify a possible cause of the failure. Click <a href='https://aka.ms/vscodeJupyterKernelCrash'>here</a> for more info. View Jupyter <a href='command:jupyter.viewOutput'>log</a> for further details."
     ]
    }
   ],
   "source": [
    "from transformers import BertForSequenceClassification, BertTokenizer\n",
    "\n",
    "# Load the model and tokenizer\n",
    "model = BertForSequenceClassification.from_pretrained(model_path)\n",
    "tokenizer = BertTokenizer.from_pretrained(tokenizer_path)\n",
    "# Evaluate the model\n",
    "eval_results = trainer.evaluate()\n",
    "\n",
    "print(eval_results)\n"
   ]
  }
 ],
 "metadata": {
  "kernelspec": {
   "display_name": "base",
   "language": "python",
   "name": "python3"
  },
  "language_info": {
   "codemirror_mode": {
    "name": "ipython",
    "version": 3
   },
   "file_extension": ".py",
   "mimetype": "text/x-python",
   "name": "python",
   "nbconvert_exporter": "python",
   "pygments_lexer": "ipython3",
   "version": "3.9.12"
  },
  "orig_nbformat": 4
 },
 "nbformat": 4,
 "nbformat_minor": 2
}
