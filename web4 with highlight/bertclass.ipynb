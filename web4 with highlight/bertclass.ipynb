{
 "cells": [
  {
   "cell_type": "code",
   "execution_count": 1,
   "metadata": {},
   "outputs": [],
   "source": [
    "#simple bert classifier"
   ]
  },
  {
   "cell_type": "code",
   "execution_count": 2,
   "metadata": {},
   "outputs": [],
   "source": [
    "# !pip install transformers\n",
    "# !pip install torch\n",
    "# !pip install pytorch-lightning\n",
    "# !pip install accelerate -U\n"
   ]
  },
  {
   "cell_type": "code",
   "execution_count": 3,
   "metadata": {},
   "outputs": [],
   "source": [
    "#  !pip3 install torch torchvision torchaudio --index-url https://download.pytorch.org/whl/cu118"
   ]
  },
  {
   "cell_type": "code",
   "execution_count": 4,
   "metadata": {},
   "outputs": [
    {
     "data": {
      "text/plain": [
       "True"
      ]
     },
     "execution_count": 4,
     "metadata": {},
     "output_type": "execute_result"
    }
   ],
   "source": [
    "import torch\n",
    "\n",
    "# If there's a GPU available...\n",
    "torch.cuda.is_available()    \n"
   ]
  },
  {
   "cell_type": "code",
   "execution_count": 5,
   "metadata": {},
   "outputs": [],
   "source": [
    "import re\n",
    "import matplotlib.pyplot as plt\n",
    "import numpy as np\n",
    "import pandas as pd\n",
    "from torch.utils.data import Dataset\n",
    "from sklearn.model_selection import train_test_split\n",
    "from transformers import BertTokenizer, BertForSequenceClassification, Trainer, TrainingArguments\n"
   ]
  },
  {
   "cell_type": "code",
   "execution_count": 6,
   "metadata": {},
   "outputs": [],
   "source": [
    "df=pd.read_json('yt_training_set.json')\n",
    "\n",
    "df = pd.DataFrame(df)\n",
    "# print(df)\n",
    "\n",
    "#drop missing values\n",
    "columns_to_dropna = [\"title\", \"channel_title\", \"view_count\", \"tags\", \"description\", \"label\"]\n",
    "\n",
    "# dropna method drop rows with missing values \n",
    "filtered_data = df.dropna(subset=columns_to_dropna, how='any')\n",
    "\n",
    "# print(filtered_data)\n",
    "new_df=pd.DataFrame(filtered_data)\n",
    "\n",
    "\n",
    "\n",
    "new_dataframe= pd.DataFrame({'title': new_df[\"title\"].values,\"channel_title\": new_df[\"channel_title\"].values,\"view_count\":new_df[\"view_count\"].values,\"tags\":new_df[\"tags\"].values,\"description\":new_df[\"description\"].values,'label': new_df[\"label\"].values})\n",
    "# print(new_dataframe)\n",
    "new_df=new_dataframe\n",
    "\n",
    "\n",
    "# Convert the data to a pandas DataFrame\n",
    "df_concat = pd.DataFrame(columns=[\"text\", \"label\"])\n",
    "\n",
    "\n",
    "for entry in new_df.index:\n",
    "    \n",
    "    title=new_df[\"title\"].get(entry) \n",
    "    # print(title)\n",
    "    \n",
    "    channel_title=new_df[\"channel_title\"].get(entry)\n",
    "    \n",
    "    tags=\" \".join(new_df[\"tags\"].get(entry ,[]))\n",
    "    description=new_df[\"description\"].get(entry)\n",
    "    \n",
    "    label=new_df[\"label\"].get(entry)\n",
    "\n",
    "    \n",
    "    \n",
    "\n",
    "    concat_text = f\"{title} {channel_title} {tags} {description}\"\n",
    "    # concat_text=re.sub(\"(http\\S+)\", \"\", concat_text)\n",
    "    \n",
    "    new_row = pd.DataFrame({\"text\": [concat_text], \"label\": [label]})\n",
    "    df_concat = pd.concat([df_concat, new_row], ignore_index=True)\n",
    "    \n",
    "df_concat['label'] = df_concat['label'].map({-1: 0, 1: 1})\n",
    "\n"
   ]
  },
  {
   "cell_type": "code",
   "execution_count": 7,
   "metadata": {},
   "outputs": [],
   "source": [
    "\n",
    "# Split the data into training and testing sets\n",
    "train_texts, test_texts, train_labels, test_labels = train_test_split(df_concat['text'].tolist(), df_concat['label'].tolist(), test_size=0.2)\n"
   ]
  },
  {
   "cell_type": "code",
   "execution_count": 8,
   "metadata": {},
   "outputs": [],
   "source": [
    "\n",
    "# Initialize the tokenizer\n",
    "tokenizer = BertTokenizer.from_pretrained('bert-base-cased')\n",
    "\n",
    "# tokenizer = AutoTokenizer.from_pretrained(\"bert-base-cased\")\n",
    "train_encodings = tokenizer(train_texts, truncation=True, padding=True, max_length=512)\n",
    "test_encodings = tokenizer(test_texts, truncation=True, padding=True, max_length=512)\n",
    "\n",
    "\n"
   ]
  },
  {
   "cell_type": "code",
   "execution_count": 9,
   "metadata": {},
   "outputs": [],
   "source": [
    "class CustomDataset(Dataset):\n",
    "    def __init__(self, encodings, labels):\n",
    "        self.encodings = encodings\n",
    "        self.labels = labels\n",
    "\n",
    "    def __getitem__(self, idx):\n",
    "        item = {key: torch.tensor(val[idx]) for key, val in self.encodings.items()}\n",
    "        item['labels'] = torch.tensor(self.labels[idx])\n",
    "        return item\n",
    "\n",
    "    def __len__(self):\n",
    "        return len(self.labels)\n",
    "    \n",
    "\n",
    "# Create the datasets\n",
    "train_dataset = CustomDataset(train_encodings, train_labels)\n",
    "test_dataset = CustomDataset(test_encodings, test_labels)\n",
    "\n",
    "\n"
   ]
  },
  {
   "cell_type": "code",
   "execution_count": 10,
   "metadata": {},
   "outputs": [
    {
     "name": "stderr",
     "output_type": "stream",
     "text": [
      "Some weights of BertForSequenceClassification were not initialized from the model checkpoint at bert-base-cased and are newly initialized: ['classifier.weight', 'classifier.bias']\n",
      "You should probably TRAIN this model on a down-stream task to be able to use it for predictions and inference.\n"
     ]
    },
    {
     "data": {
      "application/vnd.jupyter.widget-view+json": {
       "model_id": "c6a07217b04f4c8ba6d4f4b5cf344122",
       "version_major": 2,
       "version_minor": 0
      },
      "text/plain": [
       "  0%|          | 0/75 [00:00<?, ?it/s]"
      ]
     },
     "metadata": {},
     "output_type": "display_data"
    },
    {
     "name": "stdout",
     "output_type": "stream",
     "text": [
      "{'train_runtime': 1128.4376, 'train_samples_per_second': 2.122, 'train_steps_per_second': 0.066, 'train_loss': 0.618732655843099, 'epoch': 3.0}\n"
     ]
    },
    {
     "data": {
      "text/plain": [
       "TrainOutput(global_step=75, training_loss=0.618732655843099, metrics={'train_runtime': 1128.4376, 'train_samples_per_second': 2.122, 'train_steps_per_second': 0.066, 'train_loss': 0.618732655843099, 'epoch': 3.0})"
      ]
     },
     "execution_count": 10,
     "metadata": {},
     "output_type": "execute_result"
    }
   ],
   "source": [
    "from sklearn.metrics import accuracy_score, precision_recall_fscore_support\n",
    "\n",
    "# Initialization of BERT \n",
    "model = BertForSequenceClassification.from_pretrained('bert-base-cased', num_labels=2)  # Adjust num_labels based on your task\n",
    "\n",
    "def compute_metrics(eval_pred):\n",
    "    logits, labels = eval_pred\n",
    "    predictions = np.argmax(logits, axis=-1)\n",
    "    precision, recall, f1, _ = precision_recall_fscore_support(labels, predictions, average='binary')\n",
    "    acc = accuracy_score(labels, predictions)\n",
    "    return {\n",
    "        'accuracy': acc,\n",
    "        'f1': f1,\n",
    "        'precision': precision,\n",
    "        'recall': recall\n",
    "    }\n",
    "\n",
    "# training arguments\n",
    "training_args = TrainingArguments(\n",
    "    output_dir='./results',\n",
    "    num_train_epochs=3,\n",
    "    per_device_train_batch_size=16,\n",
    "    gradient_accumulation_steps=2,\n",
    "    learning_rate=2e-5,  # The learning_rate parameter\n",
    ")\n",
    "\n",
    "# Create the trainer and train the model\n",
    "trainer = Trainer(\n",
    "    model=model,\n",
    "    args=training_args,\n",
    "    train_dataset=train_dataset,\n",
    "    eval_dataset=test_dataset,\n",
    "    compute_metrics=compute_metrics,\n",
    ")\n",
    "\n",
    "trainer.train()\n",
    "\n",
    "\n",
    "# Evaluate the model\n",
    "eval_results = trainer.evaluate()\n",
    "\n",
    "print(eval_results)"
   ]
  },
  {
   "cell_type": "code",
   "execution_count": 17,
   "metadata": {},
   "outputs": [],
   "source": [
    "# Save the model\n",
    "\n",
    "# Specify the path\n",
    "model_path = \"models\"\n",
    "tokenizer_path = \"models\"\n",
    "\n",
    "# Save the model and tokenizer\n",
    "\n",
    "tokenizer.save_pretrained(tokenizer_path)\n",
    "\n",
    "trainer.save_model(model_path)\n",
    "\n",
    "\n"
   ]
  },
  {
   "cell_type": "code",
   "execution_count": 18,
   "metadata": {},
   "outputs": [
    {
     "data": {
      "application/vnd.jupyter.widget-view+json": {
       "model_id": "bb08537f2608460593f619daa4c0e8ee",
       "version_major": 2,
       "version_minor": 0
      },
      "text/plain": [
       "  0%|          | 0/25 [00:00<?, ?it/s]"
      ]
     },
     "metadata": {},
     "output_type": "display_data"
    },
    {
     "name": "stdout",
     "output_type": "stream",
     "text": [
      "{'eval_loss': 0.5858001112937927, 'eval_runtime': 23.8513, 'eval_samples_per_second': 8.385, 'eval_steps_per_second': 1.048, 'epoch': 3.0}\n"
     ]
    }
   ],
   "source": [
    "from transformers import BertForSequenceClassification, BertTokenizer\n",
    "\n",
    "# Load the model and tokenizer\n",
    "model = BertForSequenceClassification.from_pretrained(model_path)\n",
    "tokenizer = BertTokenizer.from_pretrained(tokenizer_path)\n",
    "# Evaluate the model\n",
    "eval_results = trainer.evaluate()\n",
    "\n",
    "print(eval_results)\n"
   ]
  }
 ],
 "metadata": {
  "kernelspec": {
   "display_name": "base",
   "language": "python",
   "name": "python3"
  },
  "language_info": {
   "codemirror_mode": {
    "name": "ipython",
    "version": 3
   },
   "file_extension": ".py",
   "mimetype": "text/x-python",
   "name": "python",
   "nbconvert_exporter": "python",
   "pygments_lexer": "ipython3",
   "version": "3.9.13"
  },
  "orig_nbformat": 4
 },
 "nbformat": 4,
 "nbformat_minor": 2
}
