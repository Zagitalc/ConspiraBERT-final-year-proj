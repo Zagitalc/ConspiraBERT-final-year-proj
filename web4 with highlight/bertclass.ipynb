{
 "cells": [
  {
   "cell_type": "code",
   "execution_count": null,
   "metadata": {},
   "outputs": [],
   "source": [
    "#simple bert classifier"
   ]
  },
  {
   "cell_type": "code",
   "execution_count": 5,
   "metadata": {},
   "outputs": [
    {
     "name": "stdout",
     "output_type": "stream",
     "text": [
      "Collecting pytorch-lightning\n",
      "  Downloading pytorch_lightning-2.1.2-py3-none-any.whl (776 kB)\n",
      "     ------------------------------------- 776.9/776.9 kB 12.2 MB/s eta 0:00:00\n",
      "Requirement already satisfied: typing-extensions>=4.0.0 in c:\\users\\zacha\\anaconda3\\lib\\site-packages (from pytorch-lightning) (4.3.0)\n",
      "Collecting torchmetrics>=0.7.0\n",
      "  Downloading torchmetrics-1.2.0-py3-none-any.whl (805 kB)\n",
      "     ------------------------------------- 805.2/805.2 kB 24.8 MB/s eta 0:00:00\n",
      "Requirement already satisfied: tqdm>=4.57.0 in c:\\users\\zacha\\anaconda3\\lib\\site-packages (from pytorch-lightning) (4.64.1)\n",
      "Collecting lightning-utilities>=0.8.0\n",
      "  Downloading lightning_utilities-0.10.0-py3-none-any.whl (24 kB)\n",
      "Requirement already satisfied: PyYAML>=5.4 in c:\\users\\zacha\\anaconda3\\lib\\site-packages (from pytorch-lightning) (6.0)\n",
      "Requirement already satisfied: fsspec[http]>2021.06.0 in c:\\users\\zacha\\anaconda3\\lib\\site-packages (from pytorch-lightning) (2023.10.0)\n",
      "Requirement already satisfied: packaging>=20.0 in c:\\users\\zacha\\anaconda3\\lib\\site-packages (from pytorch-lightning) (21.3)\n",
      "Requirement already satisfied: torch>=1.12.0 in c:\\users\\zacha\\anaconda3\\lib\\site-packages (from pytorch-lightning) (2.1.1)\n",
      "Requirement already satisfied: numpy>=1.17.2 in c:\\users\\zacha\\anaconda3\\lib\\site-packages (from pytorch-lightning) (1.21.5)\n",
      "Requirement already satisfied: requests in c:\\users\\zacha\\anaconda3\\lib\\site-packages (from fsspec[http]>2021.06.0->pytorch-lightning) (2.28.1)\n",
      "Collecting aiohttp!=4.0.0a0,!=4.0.0a1\n",
      "  Downloading aiohttp-3.9.1-cp39-cp39-win_amd64.whl (365 kB)\n",
      "     ------------------------------------- 365.5/365.5 kB 22.2 MB/s eta 0:00:00\n",
      "Requirement already satisfied: setuptools in c:\\users\\zacha\\anaconda3\\lib\\site-packages (from lightning-utilities>=0.8.0->pytorch-lightning) (63.4.1)\n",
      "Requirement already satisfied: pyparsing!=3.0.5,>=2.0.2 in c:\\users\\zacha\\anaconda3\\lib\\site-packages (from packaging>=20.0->pytorch-lightning) (3.0.9)\n",
      "Requirement already satisfied: filelock in c:\\users\\zacha\\anaconda3\\lib\\site-packages (from torch>=1.12.0->pytorch-lightning) (3.6.0)\n",
      "Requirement already satisfied: sympy in c:\\users\\zacha\\anaconda3\\lib\\site-packages (from torch>=1.12.0->pytorch-lightning) (1.10.1)\n",
      "Requirement already satisfied: networkx in c:\\users\\zacha\\anaconda3\\lib\\site-packages (from torch>=1.12.0->pytorch-lightning) (2.8.4)\n",
      "Requirement already satisfied: jinja2 in c:\\users\\zacha\\anaconda3\\lib\\site-packages (from torch>=1.12.0->pytorch-lightning) (2.11.3)\n",
      "Requirement already satisfied: colorama in c:\\users\\zacha\\anaconda3\\lib\\site-packages (from tqdm>=4.57.0->pytorch-lightning) (0.4.5)\n",
      "Collecting yarl<2.0,>=1.0\n",
      "  Downloading yarl-1.9.3-cp39-cp39-win_amd64.whl (76 kB)\n",
      "     ---------------------------------------- 76.2/76.2 kB 4.1 MB/s eta 0:00:00\n",
      "Collecting aiosignal>=1.1.2\n",
      "  Using cached aiosignal-1.3.1-py3-none-any.whl (7.6 kB)\n",
      "Collecting multidict<7.0,>=4.5\n",
      "  Downloading multidict-6.0.4-cp39-cp39-win_amd64.whl (28 kB)\n",
      "Collecting frozenlist>=1.1.1\n",
      "  Downloading frozenlist-1.4.0-cp39-cp39-win_amd64.whl (44 kB)\n",
      "     ---------------------------------------- 44.7/44.7 kB ? eta 0:00:00\n",
      "Collecting async-timeout<5.0,>=4.0\n",
      "  Downloading async_timeout-4.0.3-py3-none-any.whl (5.7 kB)\n",
      "Requirement already satisfied: attrs>=17.3.0 in c:\\users\\zacha\\anaconda3\\lib\\site-packages (from aiohttp!=4.0.0a0,!=4.0.0a1->fsspec[http]>2021.06.0->pytorch-lightning) (21.4.0)\n",
      "Requirement already satisfied: MarkupSafe>=0.23 in c:\\users\\zacha\\anaconda3\\lib\\site-packages (from jinja2->torch>=1.12.0->pytorch-lightning) (2.0.1)\n",
      "Requirement already satisfied: idna<4,>=2.5 in c:\\users\\zacha\\anaconda3\\lib\\site-packages (from requests->fsspec[http]>2021.06.0->pytorch-lightning) (3.3)\n",
      "Requirement already satisfied: charset-normalizer<3,>=2 in c:\\users\\zacha\\anaconda3\\lib\\site-packages (from requests->fsspec[http]>2021.06.0->pytorch-lightning) (2.0.4)\n",
      "Requirement already satisfied: certifi>=2017.4.17 in c:\\users\\zacha\\anaconda3\\lib\\site-packages (from requests->fsspec[http]>2021.06.0->pytorch-lightning) (2022.9.14)\n",
      "Requirement already satisfied: urllib3<1.27,>=1.21.1 in c:\\users\\zacha\\anaconda3\\lib\\site-packages (from requests->fsspec[http]>2021.06.0->pytorch-lightning) (1.26.11)\n",
      "Requirement already satisfied: mpmath>=0.19 in c:\\users\\zacha\\anaconda3\\lib\\site-packages (from sympy->torch>=1.12.0->pytorch-lightning) (1.2.1)\n",
      "Installing collected packages: multidict, frozenlist, async-timeout, yarl, lightning-utilities, aiosignal, torchmetrics, aiohttp, pytorch-lightning\n",
      "Successfully installed aiohttp-3.9.1 aiosignal-1.3.1 async-timeout-4.0.3 frozenlist-1.4.0 lightning-utilities-0.10.0 multidict-6.0.4 pytorch-lightning-2.1.2 torchmetrics-1.2.0 yarl-1.9.3\n"
     ]
    }
   ],
   "source": [
    "# !pip install transformers\n",
    "# !pip install torch\n",
    "# !pip install pytorch-lightning"
   ]
  }
 ],
 "metadata": {
  "kernelspec": {
   "display_name": "base",
   "language": "python",
   "name": "python3"
  },
  "language_info": {
   "codemirror_mode": {
    "name": "ipython",
    "version": 3
   },
   "file_extension": ".py",
   "mimetype": "text/x-python",
   "name": "python",
   "nbconvert_exporter": "python",
   "pygments_lexer": "ipython3",
   "version": "3.9.13"
  },
  "orig_nbformat": 4
 },
 "nbformat": 4,
 "nbformat_minor": 2
}
