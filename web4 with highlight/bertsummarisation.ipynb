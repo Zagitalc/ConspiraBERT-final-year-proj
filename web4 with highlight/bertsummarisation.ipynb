{
 "cells": [
  {
   "cell_type": "code",
   "execution_count": 35,
   "metadata": {},
   "outputs": [],
   "source": [
    "# pip install datasets[audio]\n",
    "# !pip install datasets[vision]\n",
    "# !pip install evaluate rouge_score\n",
    "# !pip install bs4\n"
   ]
  },
  {
   "cell_type": "code",
   "execution_count": null,
   "metadata": {},
   "outputs": [],
   "source": [
    "# !pip install transformers\n",
    "# !pip install torch\n",
    "# !pip install accelerate -U\n",
    "# pip install datasets\n"
   ]
  },
  {
   "cell_type": "code",
   "execution_count": null,
   "metadata": {},
   "outputs": [],
   "source": [
    "import torch\n",
    "\n",
    "# If there's a GPU available...\n",
    "torch.cuda.is_available()   "
   ]
  },
  {
   "cell_type": "code",
   "execution_count": 36,
   "metadata": {},
   "outputs": [],
   "source": [
    "from datasets import load_dataset\n",
    "from bs4 import BeautifulSoup\n",
    "import requests\n",
    "\n",
    "# spanish_dataset = load_dataset(\"amazon_reviews_multi\", \"es\")\n",
    "# english_dataset = load_dataset(\"amazon_reviews_multi\", \"en\")\n",
    "# english_dataset\n",
    "\n",
    "billsum = load_dataset(\"billsum\", split=\"ca_test\")"
   ]
  },
  {
   "cell_type": "code",
   "execution_count": 12,
   "metadata": {},
   "outputs": [],
   "source": [
    "\n",
    "billsum = billsum.train_test_split(test_size=0.2)"
   ]
  },
  {
   "cell_type": "code",
   "execution_count": 13,
   "metadata": {},
   "outputs": [
    {
     "data": {
      "text/plain": [
       "{'text': 'The people of the State of California do enact as follows:\\n\\n\\nSECTION 1.\\nChapter 22.2.5 (commencing with Section 22586) is added to Division 8 of the Business and Professions Code, to read:\\nCHAPTER  22.2.5. Early Learning Personal Information Protection Act\\n22586.\\n(a) For purposes of this section:\\n(1) “Operator” means the operator of an Internet Web site, online service, online application, or mobile application with actual knowledge that the site, service, or application is used primarily for preschool or prekindergarten purposes and was designed and marketed for preschool and prekindergarten purposes.\\n(2) “Pupil” means a child enrolled in a preschool or prekindergarten course of instruction.\\n(b) An operator shall not knowingly engage in any of the following activities with respect to their site, service, or application:\\n(1) (A) Engage in targeted advertising on the operator’s site, service, or application.\\n(B) Target advertising on any other site, service, or application when the targeting of the advertising is based upon any information, including covered information and persistent unique identifiers, that the operator has acquired because of the use of that operator’s site, service, or application described in subdivision (a).\\n(2) Use information, including persistent unique identifiers, created or gathered by the operator’s site, service, or application, to amass a profile about a pupil except in furtherance of preschool or prekindergarten purposes.\\n(3) Sell a pupil’s information, including covered information. This prohibition does not apply to the purchase, merger, or other type of acquisition of an operator by another entity, provided that the operator or successor entity continues to be subject to the provisions of this section with respect to previously acquired pupil information.\\n(4) Disclose covered information unless the disclosure is made:\\n(A) In furtherance of the preschool and prekindergarten purposes of the site, service, or application, provided that the recipient of the covered information disclosed pursuant to this subparagraph:\\n(i) Shall not further disclose the information unless done to allow or improve operability and functionality within that pupil’s classroom, preschool, or prekindergarten.\\n(ii) Is legally required to comply with subdivision (d);\\n(B) To ensure legal and regulatory compliance;\\n(C) To respond to or participate in a judicial process;\\n(D) To protect the safety of users or others or security of the site; or\\n(E) To a service provider, provided the operator contractually (i) prohibits the service provider from using any covered information for any purpose other than providing the contracted service to, or on behalf of, the operator, (ii) prohibits the service provider from disclosing any covered information provided by the operator with subsequent third parties, and (iii) requires the service provider to implement and maintain reasonable security procedures and practices as provided in subdivision (d).\\n(c) Nothing in subdivision (b) shall be construed to prohibit the operator’s use of information for maintaining, developing, supporting, improving, or diagnosing the operator’s site, service, or application.\\n(d) An operator shall:\\n(1) Implement and maintain reasonable security procedures and practices appropriate to the nature of the covered information, and protect that information from unauthorized access, destruction, use, modification, or disclosure.\\n(2) Delete a pupil’s covered information if the preschool, prekindergarten, or district requests deletion of data under the control of the preschool, prekindergarten, or district.\\n(e) Notwithstanding paragraph (4) of subdivision (b), an operator may disclose covered information of a pupil, as long as paragraphs (1) to (3), inclusive, of subdivision (b) are not violated, under the following circumstances:\\n(1) If other provisions of federal or state law require the operator to disclose the information, and the operator complies with the requirements of federal and state law in protecting and disclosing that information.\\n(2) For legitimate research purposes: (A) as required by state or federal law and subject to the restrictions under applicable state and federal law or (B) as allowed by state or federal law and under the direction of a preschool, prekindergarten, school district, or state department of education, if no covered information is used for any purpose in furtherance of advertising or to amass a profile on the pupil for purposes other than preschool and prekindergarten purposes.\\n(3) To a state or local educational agency, including preschools, prekindergartens, and school districts, for preschool and prekindergarten purposes, as permitted by state or federal law.\\n(f) Nothing in this section prohibits an operator from using deidentified pupil covered information as follows:\\n(1) Within the operator’s site, service, or application or other sites, services, or applications owned by the operator to improve educational products.\\n(2) To demonstrate the effectiveness of the operator’s products or services, including in their marketing.\\n(g) Nothing in this section prohibits an operator from sharing aggregated deidentified pupil covered information for the development and improvement of educational sites, services, or applications.\\n(h) “Online service” includes cloud computing services, which must comply with this section if they otherwise meet the definition of an operator.\\n(i) “Covered information” means personally identifiable information or materials, in any media or format that meets any of the following:\\n(1) Is created or provided by a pupil, or the pupil’s parent or legal guardian, to an operator in the course of the pupil’s, parent’s, or legal guardian’s use of the operator’s site, service, or application for preschool and prekindergarten purposes.\\n(2) Is created or provided by an employee or agent of the preschool, prekindergarten, school district, local educational agency, or county office of education, to an operator.\\n(3) Is gathered by an operator through the operation of a site, service, or application described in subdivision (a), and is descriptive of a pupil or otherwise identifies a pupil, including, but not limited to, information in the pupil’s educational record or email, first and last name, home address, telephone number, email address, or other information that allows physical or online contact, discipline records, test results, special education data, juvenile dependency records, grades, evaluations, criminal records, medical records, health records, social security number, biometric information, disabilities, socioeconomic information, food purchases, political affiliations, religious information, text messages, documents, student identifiers, search activity, photos, voice recordings, or geolocation information.\\n(j) “Preschool or prekindergarten purposes” means purposes that customarily take place at the direction of the preschool, prekindergarten, teacher, or school district, or aid in the administration of preschool or prekindergarten activities, including, but not limited to, instruction in the classroom or at home, administrative activities, and collaboration between pupils, preschool or prekindergarten personnel, or parents, or are for the use and benefit of the preschool or prekindergarten.\\n(k) This section shall not be construed to limit the authority of a law enforcement agency to obtain any content or information from an operator as authorized by law or pursuant to an order of a court of competent jurisdiction.\\n(l) This section does not limit the ability of an operator to use a pupil’s data, including covered information, for adaptive learning or customized early learning purposes.\\n(m) This section does not apply to general audience Internet Web sites, general audience online services, general audience online applications, or general audience mobile applications, even if login credentials created for an operator’s site, service, or application may be used to access those general audience sites, services, or applications.\\n(n) This section does not limit Internet service providers from providing Internet connectivity to preschools, prekindergartens, or pupils and their families.\\n(o) This section shall not be construed to prohibit an operator of an Internet Web site, online service, online application, or mobile application from marketing educational products directly to parents so long as the marketing did not result from the use of covered information obtained by the operator through the provision of services covered under this section.\\n(p) This section does not impose a duty upon a provider of an electronic store, gateway, marketplace, or other means of purchasing or downloading software or applications to review or enforce compliance of this section on those applications or software.\\n(q) This section does not impose a duty upon a provider of an interactive computer service, as defined in Section 230 of Title 47 of the United States Code, to review or enforce compliance with this section by third-party content providers.\\n(r) This section does not impede the ability of pupils to download, export, or otherwise save or maintain their own personally created data or documents.\\n22587.\\nThis chapter shall become operative on July 1, 2017.\\nSEC. 2.\\nThe provisions of this act are severable. If any provision of this act or its application is held invalid, that invalidity shall not affect other provisions or applications that can be given effect without the invalid provision or application.',\n",
       " 'summary': 'Existing law, The Student Online Personal Information Protection Act, restricts the use of information about elementary and secondary school students by operators of certain Internet Web sites and online services and applications by, among other things, prohibiting operators from engaging in targeted advertising, amassing student profiles except for K–12 school purposes, or selling or disclosing student information, as specified. Existing law also requires an operator to implement and maintain reasonable security procedures and practices appropriate to the nature of the covered information to protect the information from unauthorized access, use, and disclosure.\\nExisting law also prohibits an operator of an Internet Web site or online service from knowingly using, disclosing, compiling, or allowing a 3rd party to use, disclose, or compile the personal information of a minor for the purpose of marketing or advertising specified types of products or services. Existing law also makes this prohibition applicable to an advertising service that is notified by an operator of an Internet Web site, online service, online application, or mobile application that the site, service, or application is directed to a minor.\\nThis bill would, commencing on July 1, 2017, prohibit the operator of an Internet Web site, online service, online application, or mobile application that is used primarily for preschool or prekindergarten purposes, as defined, and was designed and marketed for preschool and prekindergarten purposes, to knowingly engage in specified activities with respect to their site, service, or application, including, among other things, engaging in targeted advertising, using specified information to amass a profile about a pupil except in furtherance of preschool or prekindergarten purposes, and selling or disclosing a pupil’s information, as specified. The bill would also require an operator to, among other things, implement and maintain reasonable security procedures and practices appropriate to the information to protect that information from unauthorized access, and to delete a pupil’s information at the request of a preschool, prekindergarten, or district, as specified. The bill would authorize the disclosure of a pupil’s information under specified circumstances. The bill would also provide that its provisions are severable.',\n",
       " 'title': 'An act to add Chapter 22.2.5 (commencing with Section 22586) to Division 8 of the Business and Professions Code, relating to privacy.'}"
      ]
     },
     "execution_count": 13,
     "metadata": {},
     "output_type": "execute_result"
    }
   ],
   "source": [
    "billsum[\"train\"][0]"
   ]
  },
  {
   "cell_type": "code",
   "execution_count": 14,
   "metadata": {},
   "outputs": [
    {
     "data": {
      "application/vnd.jupyter.widget-view+json": {
       "model_id": "7289bbc6144b496987f47efd64525195",
       "version_major": 2,
       "version_minor": 0
      },
      "text/plain": [
       "tokenizer_config.json:   0%|          | 0.00/2.32k [00:00<?, ?B/s]"
      ]
     },
     "metadata": {},
     "output_type": "display_data"
    },
    {
     "data": {
      "application/vnd.jupyter.widget-view+json": {
       "model_id": "65e8996f766e472ca8579f56a4e0f2a3",
       "version_major": 2,
       "version_minor": 0
      },
      "text/plain": [
       "spiece.model:   0%|          | 0.00/792k [00:00<?, ?B/s]"
      ]
     },
     "metadata": {},
     "output_type": "display_data"
    },
    {
     "data": {
      "application/vnd.jupyter.widget-view+json": {
       "model_id": "2b8b1219868b4569a152fadf4d518912",
       "version_major": 2,
       "version_minor": 0
      },
      "text/plain": [
       "tokenizer.json:   0%|          | 0.00/1.39M [00:00<?, ?B/s]"
      ]
     },
     "metadata": {},
     "output_type": "display_data"
    }
   ],
   "source": [
    "from transformers import AutoTokenizer\n",
    "\n",
    "checkpoint = \"t5-small\"\n",
    "tokenizer = AutoTokenizer.from_pretrained(checkpoint)"
   ]
  },
  {
   "cell_type": "code",
   "execution_count": 15,
   "metadata": {},
   "outputs": [],
   "source": [
    "prefix = \"summarize: \"\n",
    "\n",
    "\n",
    "def preprocess_function(examples):\n",
    "    inputs = [prefix + doc for doc in examples[\"text\"]]\n",
    "    model_inputs = tokenizer(inputs, max_length=1024, truncation=True)\n",
    "\n",
    "    labels = tokenizer(text_target=examples[\"summary\"], max_length=128, truncation=True)\n",
    "\n",
    "    model_inputs[\"labels\"] = labels[\"input_ids\"]\n",
    "    return model_inputs"
   ]
  },
  {
   "cell_type": "code",
   "execution_count": 16,
   "metadata": {},
   "outputs": [
    {
     "name": "stderr",
     "output_type": "stream",
     "text": [
      "Parameter 'function'=<function preprocess_function at 0x00000235B77FBE50> of the transform datasets.arrow_dataset.Dataset._map_single couldn't be hashed properly, a random hash was used instead. Make sure your transforms and parameters are serializable with pickle or dill for the dataset fingerprinting and caching to work. If you reuse this transform, the caching mechanism will consider it to be different from the previous calls and recompute everything. This warning is only showed once. Subsequent hashing failures won't be showed.\n"
     ]
    },
    {
     "data": {
      "application/vnd.jupyter.widget-view+json": {
       "model_id": "3c0d69006d2b417ca40d4b97f59dba79",
       "version_major": 2,
       "version_minor": 0
      },
      "text/plain": [
       "Map:   0%|          | 0/989 [00:00<?, ? examples/s]"
      ]
     },
     "metadata": {},
     "output_type": "display_data"
    },
    {
     "data": {
      "application/vnd.jupyter.widget-view+json": {
       "model_id": "92d7398be2b74867ad2d54a79c8e71cf",
       "version_major": 2,
       "version_minor": 0
      },
      "text/plain": [
       "Map:   0%|          | 0/248 [00:00<?, ? examples/s]"
      ]
     },
     "metadata": {},
     "output_type": "display_data"
    }
   ],
   "source": [
    "tokenized_billsum = billsum.map(preprocess_function, batched=True)"
   ]
  },
  {
   "cell_type": "code",
   "execution_count": 17,
   "metadata": {},
   "outputs": [],
   "source": [
    "from transformers import DataCollatorForSeq2Seq\n",
    "\n",
    "data_collator = DataCollatorForSeq2Seq(tokenizer=tokenizer, model=checkpoint)"
   ]
  },
  {
   "cell_type": "code",
   "execution_count": 18,
   "metadata": {},
   "outputs": [
    {
     "data": {
      "application/vnd.jupyter.widget-view+json": {
       "model_id": "357b9719e4424b56b104dcbcf4667182",
       "version_major": 2,
       "version_minor": 0
      },
      "text/plain": [
       "Downloading builder script:   0%|          | 0.00/6.27k [00:00<?, ?B/s]"
      ]
     },
     "metadata": {},
     "output_type": "display_data"
    }
   ],
   "source": [
    "import evaluate\n",
    "\n",
    "rouge = evaluate.load(\"rouge\")"
   ]
  },
  {
   "cell_type": "code",
   "execution_count": 19,
   "metadata": {},
   "outputs": [],
   "source": [
    "import numpy as np\n",
    "\n",
    "\n",
    "def compute_metrics(eval_pred):\n",
    "    predictions, labels = eval_pred\n",
    "    decoded_preds = tokenizer.batch_decode(predictions, skip_special_tokens=True)\n",
    "    labels = np.where(labels != -100, labels, tokenizer.pad_token_id)\n",
    "    decoded_labels = tokenizer.batch_decode(labels, skip_special_tokens=True)\n",
    "\n",
    "    result = rouge.compute(predictions=decoded_preds, references=decoded_labels, use_stemmer=True)\n",
    "\n",
    "    prediction_lens = [np.count_nonzero(pred != tokenizer.pad_token_id) for pred in predictions]\n",
    "    result[\"gen_len\"] = np.mean(prediction_lens)\n",
    "\n",
    "    return {k: round(v, 4) for k, v in result.items()}"
   ]
  },
  {
   "cell_type": "code",
   "execution_count": 20,
   "metadata": {},
   "outputs": [
    {
     "data": {
      "application/vnd.jupyter.widget-view+json": {
       "model_id": "0406acd3d88b4294ab37b87572da5029",
       "version_major": 2,
       "version_minor": 0
      },
      "text/plain": [
       "config.json:   0%|          | 0.00/1.21k [00:00<?, ?B/s]"
      ]
     },
     "metadata": {},
     "output_type": "display_data"
    },
    {
     "data": {
      "application/vnd.jupyter.widget-view+json": {
       "model_id": "5d41a683500f4f15bbf418ae35d5a3d8",
       "version_major": 2,
       "version_minor": 0
      },
      "text/plain": [
       "model.safetensors:   0%|          | 0.00/242M [00:00<?, ?B/s]"
      ]
     },
     "metadata": {},
     "output_type": "display_data"
    },
    {
     "data": {
      "application/vnd.jupyter.widget-view+json": {
       "model_id": "ff40905cbb884d7a98037be1397a33fa",
       "version_major": 2,
       "version_minor": 0
      },
      "text/plain": [
       "generation_config.json:   0%|          | 0.00/147 [00:00<?, ?B/s]"
      ]
     },
     "metadata": {},
     "output_type": "display_data"
    }
   ],
   "source": [
    "#train the model\n",
    "from transformers import AutoModelForSeq2SeqLM, Seq2SeqTrainingArguments, Seq2SeqTrainer\n",
    "\n",
    "model = AutoModelForSeq2SeqLM.from_pretrained(checkpoint)"
   ]
  },
  {
   "cell_type": "code",
   "execution_count": 21,
   "metadata": {},
   "outputs": [
    {
     "data": {
      "application/vnd.jupyter.widget-view+json": {
       "model_id": "a3f3da862e54492394c86e028a836af6",
       "version_major": 2,
       "version_minor": 0
      },
      "text/plain": [
       "  0%|          | 0/248 [00:00<?, ?it/s]"
      ]
     },
     "metadata": {},
     "output_type": "display_data"
    },
    {
     "name": "stderr",
     "output_type": "stream",
     "text": [
      "You're using a T5TokenizerFast tokenizer. Please note that with a fast tokenizer, using the `__call__` method is faster than using a method to encode the text followed by a call to the `pad` method to get a padded encoding.\n",
      "c:\\Users\\zacha\\anaconda3\\lib\\site-packages\\transformers\\generation\\utils.py:1273: UserWarning: Using the model-agnostic default `max_length` (=20) to control the generation length. We recommend setting `max_new_tokens` to control the maximum length of the generation.\n",
      "  warnings.warn(\n"
     ]
    },
    {
     "data": {
      "application/vnd.jupyter.widget-view+json": {
       "model_id": "8b5087e0166f4623b5fcfc1150842e70",
       "version_major": 2,
       "version_minor": 0
      },
      "text/plain": [
       "  0%|          | 0/16 [00:00<?, ?it/s]"
      ]
     },
     "metadata": {},
     "output_type": "display_data"
    },
    {
     "name": "stdout",
     "output_type": "stream",
     "text": [
      "{'eval_loss': 2.7724201679229736, 'eval_rouge1': 0.1278, 'eval_rouge2': 0.0384, 'eval_rougeL': 0.1075, 'eval_rougeLsum': 0.1076, 'eval_gen_len': 19.0, 'eval_runtime': 223.9382, 'eval_samples_per_second': 1.107, 'eval_steps_per_second': 0.071, 'epoch': 1.0}\n"
     ]
    },
    {
     "data": {
      "application/vnd.jupyter.widget-view+json": {
       "model_id": "6d6a4dd1236847059bb828942124c603",
       "version_major": 2,
       "version_minor": 0
      },
      "text/plain": [
       "  0%|          | 0/16 [00:00<?, ?it/s]"
      ]
     },
     "metadata": {},
     "output_type": "display_data"
    },
    {
     "name": "stdout",
     "output_type": "stream",
     "text": [
      "{'eval_loss': 2.5578396320343018, 'eval_rouge1': 0.1373, 'eval_rouge2': 0.0498, 'eval_rougeL': 0.1152, 'eval_rougeLsum': 0.1151, 'eval_gen_len': 19.0, 'eval_runtime': 220.6434, 'eval_samples_per_second': 1.124, 'eval_steps_per_second': 0.073, 'epoch': 2.0}\n"
     ]
    },
    {
     "data": {
      "application/vnd.jupyter.widget-view+json": {
       "model_id": "b83bf1a334db47b8ac2d3ed78f23bb61",
       "version_major": 2,
       "version_minor": 0
      },
      "text/plain": [
       "  0%|          | 0/16 [00:00<?, ?it/s]"
      ]
     },
     "metadata": {},
     "output_type": "display_data"
    },
    {
     "name": "stdout",
     "output_type": "stream",
     "text": [
      "{'eval_loss': 2.4929006099700928, 'eval_rouge1': 0.1437, 'eval_rouge2': 0.0542, 'eval_rougeL': 0.1188, 'eval_rougeLsum': 0.1191, 'eval_gen_len': 19.0, 'eval_runtime': 220.7011, 'eval_samples_per_second': 1.124, 'eval_steps_per_second': 0.072, 'epoch': 3.0}\n"
     ]
    },
    {
     "data": {
      "application/vnd.jupyter.widget-view+json": {
       "model_id": "040f30a8aef0498e9ad75f32bee94b15",
       "version_major": 2,
       "version_minor": 0
      },
      "text/plain": [
       "  0%|          | 0/16 [00:00<?, ?it/s]"
      ]
     },
     "metadata": {},
     "output_type": "display_data"
    },
    {
     "name": "stdout",
     "output_type": "stream",
     "text": [
      "{'eval_loss': 2.4772226810455322, 'eval_rouge1': 0.1454, 'eval_rouge2': 0.0554, 'eval_rougeL': 0.1213, 'eval_rougeLsum': 0.1216, 'eval_gen_len': 19.0, 'eval_runtime': 221.2075, 'eval_samples_per_second': 1.121, 'eval_steps_per_second': 0.072, 'epoch': 4.0}\n",
      "{'train_runtime': 2947.3396, 'train_samples_per_second': 1.342, 'train_steps_per_second': 0.084, 'train_loss': 3.0322592950636342, 'epoch': 4.0}\n"
     ]
    },
    {
     "data": {
      "text/plain": [
       "TrainOutput(global_step=248, training_loss=3.0322592950636342, metrics={'train_runtime': 2947.3396, 'train_samples_per_second': 1.342, 'train_steps_per_second': 0.084, 'train_loss': 3.0322592950636342, 'epoch': 4.0})"
      ]
     },
     "execution_count": 21,
     "metadata": {},
     "output_type": "execute_result"
    }
   ],
   "source": [
    "training_args = Seq2SeqTrainingArguments(\n",
    "    output_dir=\"my_awesome_billsum_model\",\n",
    "    evaluation_strategy=\"epoch\",\n",
    "    learning_rate=2e-5,\n",
    "    per_device_train_batch_size=16,\n",
    "    per_device_eval_batch_size=16,\n",
    "    weight_decay=0.01,\n",
    "    save_total_limit=3,\n",
    "    num_train_epochs=4,\n",
    "    predict_with_generate=True,\n",
    "    fp16=True,\n",
    "    push_to_hub=False,\n",
    ")\n",
    "\n",
    "trainer = Seq2SeqTrainer(\n",
    "    model=model,\n",
    "    args=training_args,\n",
    "    train_dataset=tokenized_billsum[\"train\"],\n",
    "    eval_dataset=tokenized_billsum[\"test\"],\n",
    "    tokenizer=tokenizer,\n",
    "    data_collator=data_collator,\n",
    "    compute_metrics=compute_metrics,\n",
    ")\n",
    "\n",
    "trainer.train()\n",
    "\n",
    "\n",
    "\n",
    "\n"
   ]
  },
  {
   "cell_type": "code",
   "execution_count": 26,
   "metadata": {},
   "outputs": [],
   "source": [
    "trainer.save_model(\"summodels\")"
   ]
  },
  {
   "cell_type": "code",
   "execution_count": 25,
   "metadata": {},
   "outputs": [],
   "source": [
    "import evaluate\n",
    "\n",
    "rouge_score = evaluate.load(\"rouge\")"
   ]
  },
  {
   "cell_type": "code",
   "execution_count": 60,
   "metadata": {},
   "outputs": [],
   "source": [
    "# scores = rouge_score.compute(\n",
    "#     predictions=[generated_summary], references=[reference_summary]\n",
    "# )\n",
    "# scores\n",
    "# URL=\"https://www.snopes.com/fact-check/strikes-on-yemen-image/\"\n",
    "# URL='https://www.dagens.com/news/russia-outraged-after-major-attack'\n",
    "URL='https://www.snopes.com/fact-check/toyota-tundra-giveaway/'"
   ]
  },
  {
   "cell_type": "code",
   "execution_count": 61,
   "metadata": {},
   "outputs": [],
   "source": [
    "from transformers import pipeline\n",
    "\n",
    "summarizer = pipeline(\"summarization\", model=\"summodels\")\n"
   ]
  },
  {
   "cell_type": "code",
   "execution_count": 62,
   "metadata": {},
   "outputs": [],
   "source": [
    "# reference from https://github.com/nicknochnack/Longform-Summarization-with-Hugging-Face/blob/main/LongSummarization.ipynb\n",
    "r = requests.get(URL)\n",
    "soup = BeautifulSoup(r.text, 'html.parser')\n",
    "results = soup.find_all(['h1', 'p'])\n",
    "text = [result.text for result in results]\n",
    "ARTICLE = ' '.join(text)"
   ]
  },
  {
   "cell_type": "code",
   "execution_count": 64,
   "metadata": {},
   "outputs": [
    {
     "name": "stdout",
     "output_type": "stream",
     "text": [
      "0\n"
     ]
    }
   ],
   "source": [
    "ARTICLE\n",
    "max_chunk = 500\n",
    "ARTICLE = ARTICLE.replace('.', '.<eos>')\n",
    "ARTICLE = ARTICLE.replace('?', '?<eos>')\n",
    "ARTICLE = ARTICLE.replace('!', '!<eos>')\n",
    "sentences = ARTICLE.split('<eos>')\n",
    "current_chunk = 0 \n",
    "chunks = []\n",
    "for sentence in sentences:\n",
    "    if len(chunks) == current_chunk + 1: \n",
    "        if len(chunks[current_chunk]) + len(sentence.split(' ')) <= max_chunk:\n",
    "            chunks[current_chunk].extend(sentence.split(' '))\n",
    "        else:\n",
    "            current_chunk += 1\n",
    "            chunks.append(sentence.split(' '))\n",
    "    else:\n",
    "        print(current_chunk)\n",
    "        chunks.append(sentence.split(' '))\n",
    "\n",
    "for chunk_id in range(len(chunks)):\n",
    "    chunks[chunk_id] = ' '.join(chunks[chunk_id])\n"
   ]
  },
  {
   "cell_type": "code",
   "execution_count": 66,
   "metadata": {},
   "outputs": [
    {
     "name": "stdout",
     "output_type": "stream",
     "text": [
      "450K Facebook Users Fell for This Toyota Tundra Giveaway Scam About this rating On Dec. 15, 2023, we received reader mail that asked about a purported giveaway on Facebook that promised one winner a 2023 Tundra pickup truck . one of the posts read as follows and directed users to a sites. google. com website: Christmas surprise! The other post asked users to enter the giveaway in the comments by typing \"@\" and then clicking on \" scammers have been known to seize on accounts with verified badges in order to advertise their scams, so bear in mind that this tip is not a foolproof tip .\n"
     ]
    }
   ],
   "source": [
    "res = summarizer(chunks, max_length=100, min_length=30, do_sample=False)\n",
    "# print(summarizer(text))\n",
    "' '.join([summ['summary_text'] for summ in res])\n",
    "text = ' '.join([summ['summary_text'] for summ in res])\n",
    "print (text)\n"
   ]
  }
 ],
 "metadata": {
  "kernelspec": {
   "display_name": "base",
   "language": "python",
   "name": "python3"
  },
  "language_info": {
   "codemirror_mode": {
    "name": "ipython",
    "version": 3
   },
   "file_extension": ".py",
   "mimetype": "text/x-python",
   "name": "python",
   "nbconvert_exporter": "python",
   "pygments_lexer": "ipython3",
   "version": "3.9.13"
  }
 },
 "nbformat": 4,
 "nbformat_minor": 2
}
