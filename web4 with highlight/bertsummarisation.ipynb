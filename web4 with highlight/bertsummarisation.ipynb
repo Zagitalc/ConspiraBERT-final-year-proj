{
 "cells": [
  {
   "cell_type": "code",
   "execution_count": 8,
   "metadata": {},
   "outputs": [
    {
     "name": "stdout",
     "output_type": "stream",
     "text": [
      "Requirement already satisfied: datasets[vision] in c:\\users\\zacha\\anaconda3\\lib\\site-packages (2.16.1)\n",
      "Requirement already satisfied: pyyaml>=5.1 in c:\\users\\zacha\\anaconda3\\lib\\site-packages (from datasets[vision]) (6.0)\n",
      "Requirement already satisfied: numpy>=1.17 in c:\\users\\zacha\\anaconda3\\lib\\site-packages (from datasets[vision]) (1.21.5)\n",
      "Requirement already satisfied: pyarrow-hotfix in c:\\users\\zacha\\anaconda3\\lib\\site-packages (from datasets[vision]) (0.6)\n",
      "Requirement already satisfied: tqdm>=4.62.1 in c:\\users\\zacha\\anaconda3\\lib\\site-packages (from datasets[vision]) (4.64.1)\n",
      "Requirement already satisfied: multiprocess in c:\\users\\zacha\\anaconda3\\lib\\site-packages (from datasets[vision]) (0.70.15)\n",
      "Requirement already satisfied: aiohttp in c:\\users\\zacha\\anaconda3\\lib\\site-packages (from datasets[vision]) (3.9.1)\n",
      "Requirement already satisfied: huggingface-hub>=0.19.4 in c:\\users\\zacha\\anaconda3\\lib\\site-packages (from datasets[vision]) (0.19.4)\n",
      "Requirement already satisfied: packaging in c:\\users\\zacha\\anaconda3\\lib\\site-packages (from datasets[vision]) (21.3)\n",
      "Requirement already satisfied: xxhash in c:\\users\\zacha\\anaconda3\\lib\\site-packages (from datasets[vision]) (3.4.1)\n",
      "Requirement already satisfied: pyarrow>=8.0.0 in c:\\users\\zacha\\anaconda3\\lib\\site-packages (from datasets[vision]) (14.0.2)\n",
      "Requirement already satisfied: filelock in c:\\users\\zacha\\anaconda3\\lib\\site-packages (from datasets[vision]) (3.6.0)\n",
      "Requirement already satisfied: requests>=2.19.0 in c:\\users\\zacha\\anaconda3\\lib\\site-packages (from datasets[vision]) (2.28.1)\n",
      "Requirement already satisfied: dill<0.3.8,>=0.3.0 in c:\\users\\zacha\\anaconda3\\lib\\site-packages (from datasets[vision]) (0.3.7)\n",
      "Requirement already satisfied: fsspec[http]<=2023.10.0,>=2023.1.0 in c:\\users\\zacha\\anaconda3\\lib\\site-packages (from datasets[vision]) (2023.10.0)\n",
      "Requirement already satisfied: pandas in c:\\users\\zacha\\anaconda3\\lib\\site-packages (from datasets[vision]) (1.4.4)\n",
      "Requirement already satisfied: Pillow>=6.2.1 in c:\\users\\zacha\\anaconda3\\lib\\site-packages (from datasets[vision]) (9.2.0)\n",
      "Requirement already satisfied: aiosignal>=1.1.2 in c:\\users\\zacha\\anaconda3\\lib\\site-packages (from aiohttp->datasets[vision]) (1.3.1)\n",
      "Requirement already satisfied: multidict<7.0,>=4.5 in c:\\users\\zacha\\anaconda3\\lib\\site-packages (from aiohttp->datasets[vision]) (6.0.4)\n",
      "Requirement already satisfied: attrs>=17.3.0 in c:\\users\\zacha\\anaconda3\\lib\\site-packages (from aiohttp->datasets[vision]) (21.4.0)\n",
      "Requirement already satisfied: frozenlist>=1.1.1 in c:\\users\\zacha\\anaconda3\\lib\\site-packages (from aiohttp->datasets[vision]) (1.4.0)\n",
      "Requirement already satisfied: async-timeout<5.0,>=4.0 in c:\\users\\zacha\\anaconda3\\lib\\site-packages (from aiohttp->datasets[vision]) (4.0.3)\n",
      "Requirement already satisfied: yarl<2.0,>=1.0 in c:\\users\\zacha\\anaconda3\\lib\\site-packages (from aiohttp->datasets[vision]) (1.9.3)\n",
      "Requirement already satisfied: typing-extensions>=3.7.4.3 in c:\\users\\zacha\\anaconda3\\lib\\site-packages (from huggingface-hub>=0.19.4->datasets[vision]) (4.3.0)\n",
      "Requirement already satisfied: pyparsing!=3.0.5,>=2.0.2 in c:\\users\\zacha\\anaconda3\\lib\\site-packages (from packaging->datasets[vision]) (3.0.9)\n",
      "Requirement already satisfied: certifi>=2017.4.17 in c:\\users\\zacha\\anaconda3\\lib\\site-packages (from requests>=2.19.0->datasets[vision]) (2022.9.14)\n",
      "Requirement already satisfied: charset-normalizer<3,>=2 in c:\\users\\zacha\\anaconda3\\lib\\site-packages (from requests>=2.19.0->datasets[vision]) (2.0.4)\n",
      "Requirement already satisfied: urllib3<1.27,>=1.21.1 in c:\\users\\zacha\\anaconda3\\lib\\site-packages (from requests>=2.19.0->datasets[vision]) (1.26.11)\n",
      "Requirement already satisfied: idna<4,>=2.5 in c:\\users\\zacha\\anaconda3\\lib\\site-packages (from requests>=2.19.0->datasets[vision]) (3.3)\n",
      "Requirement already satisfied: colorama in c:\\users\\zacha\\anaconda3\\lib\\site-packages (from tqdm>=4.62.1->datasets[vision]) (0.4.5)\n",
      "Requirement already satisfied: python-dateutil>=2.8.1 in c:\\users\\zacha\\anaconda3\\lib\\site-packages (from pandas->datasets[vision]) (2.8.2)\n",
      "Requirement already satisfied: pytz>=2020.1 in c:\\users\\zacha\\anaconda3\\lib\\site-packages (from pandas->datasets[vision]) (2022.1)\n",
      "Requirement already satisfied: six>=1.5 in c:\\users\\zacha\\anaconda3\\lib\\site-packages (from python-dateutil>=2.8.1->pandas->datasets[vision]) (1.16.0)\n"
     ]
    }
   ],
   "source": [
    "# pip install datasets[audio]\n",
    "# !pip install datasets[vision]"
   ]
  },
  {
   "cell_type": "code",
   "execution_count": null,
   "metadata": {},
   "outputs": [],
   "source": [
    "# !pip install transformers\n",
    "# !pip install torch\n",
    "# !pip install accelerate -U\n",
    "# pip install datasets\n"
   ]
  },
  {
   "cell_type": "code",
   "execution_count": 4,
   "metadata": {},
   "outputs": [
    {
     "data": {
      "text/plain": [
       "True"
      ]
     },
     "execution_count": 4,
     "metadata": {},
     "output_type": "execute_result"
    }
   ],
   "source": [
    "import torch\n",
    "\n",
    "# If there's a GPU available...\n",
    "torch.cuda.is_available()   "
   ]
  },
  {
   "cell_type": "code",
   "execution_count": 5,
   "metadata": {},
   "outputs": [
    {
     "name": "stderr",
     "output_type": "stream",
     "text": [
      "c:\\Users\\zacha\\anaconda3\\lib\\site-packages\\datasets\\load.py:1429: FutureWarning: The repository for amazon_reviews_multi contains custom code which must be executed to correctly load the dataset. You can inspect the repository content at https://hf.co/datasets/amazon_reviews_multi\n",
      "You can avoid this message in future by passing the argument `trust_remote_code=True`.\n",
      "Passing `trust_remote_code=True` will be mandatory to load this dataset from the next major release of `datasets`.\n",
      "  warnings.warn(\n"
     ]
    },
    {
     "data": {
      "application/vnd.jupyter.widget-view+json": {
       "model_id": "cea2248b35e046e2822fd18d0eba7fff",
       "version_major": 2,
       "version_minor": 0
      },
      "text/plain": [
       "Downloading builder script:   0%|          | 0.00/7.38k [00:00<?, ?B/s]"
      ]
     },
     "metadata": {},
     "output_type": "display_data"
    },
    {
     "data": {
      "application/vnd.jupyter.widget-view+json": {
       "model_id": "d9a65c9083f84ed5bd9246c40db4ca56",
       "version_major": 2,
       "version_minor": 0
      },
      "text/plain": [
       "Downloading readme:   0%|          | 0.00/15.5k [00:00<?, ?B/s]"
      ]
     },
     "metadata": {},
     "output_type": "display_data"
    },
    {
     "ename": "DefunctDatasetError",
     "evalue": "Dataset 'amazon_reviews_multi' is defunct and no longer accessible due to the decision of data providers",
     "output_type": "error",
     "traceback": [
      "\u001b[1;31m---------------------------------------------------------------------------\u001b[0m",
      "\u001b[1;31mDefunctDatasetError\u001b[0m                       Traceback (most recent call last)",
      "\u001b[1;32m~\\AppData\\Local\\Temp\\ipykernel_1944\\2102050378.py\u001b[0m in \u001b[0;36m<module>\u001b[1;34m\u001b[0m\n\u001b[0;32m      1\u001b[0m \u001b[1;32mfrom\u001b[0m \u001b[0mdatasets\u001b[0m \u001b[1;32mimport\u001b[0m \u001b[0mload_dataset\u001b[0m\u001b[1;33m\u001b[0m\u001b[1;33m\u001b[0m\u001b[0m\n\u001b[0;32m      2\u001b[0m \u001b[1;33m\u001b[0m\u001b[0m\n\u001b[1;32m----> 3\u001b[1;33m \u001b[0mspanish_dataset\u001b[0m \u001b[1;33m=\u001b[0m \u001b[0mload_dataset\u001b[0m\u001b[1;33m(\u001b[0m\u001b[1;34m\"amazon_reviews_multi\"\u001b[0m\u001b[1;33m,\u001b[0m \u001b[1;34m\"es\"\u001b[0m\u001b[1;33m)\u001b[0m\u001b[1;33m\u001b[0m\u001b[1;33m\u001b[0m\u001b[0m\n\u001b[0m\u001b[0;32m      4\u001b[0m \u001b[0menglish_dataset\u001b[0m \u001b[1;33m=\u001b[0m \u001b[0mload_dataset\u001b[0m\u001b[1;33m(\u001b[0m\u001b[1;34m\"amazon_reviews_multi\"\u001b[0m\u001b[1;33m,\u001b[0m \u001b[1;34m\"en\"\u001b[0m\u001b[1;33m)\u001b[0m\u001b[1;33m\u001b[0m\u001b[1;33m\u001b[0m\u001b[0m\n\u001b[0;32m      5\u001b[0m \u001b[0menglish_dataset\u001b[0m\u001b[1;33m\u001b[0m\u001b[1;33m\u001b[0m\u001b[0m\n",
      "\u001b[1;32mc:\\Users\\zacha\\anaconda3\\lib\\site-packages\\datasets\\load.py\u001b[0m in \u001b[0;36mload_dataset\u001b[1;34m(path, name, data_dir, data_files, split, cache_dir, features, download_config, download_mode, verification_mode, ignore_verifications, keep_in_memory, save_infos, revision, token, use_auth_token, task, streaming, num_proc, storage_options, trust_remote_code, **config_kwargs)\u001b[0m\n\u001b[0;32m   2521\u001b[0m \u001b[1;33m\u001b[0m\u001b[0m\n\u001b[0;32m   2522\u001b[0m     \u001b[1;31m# Create a dataset builder\u001b[0m\u001b[1;33m\u001b[0m\u001b[1;33m\u001b[0m\u001b[0m\n\u001b[1;32m-> 2523\u001b[1;33m     builder_instance = load_dataset_builder(\n\u001b[0m\u001b[0;32m   2524\u001b[0m         \u001b[0mpath\u001b[0m\u001b[1;33m=\u001b[0m\u001b[0mpath\u001b[0m\u001b[1;33m,\u001b[0m\u001b[1;33m\u001b[0m\u001b[1;33m\u001b[0m\u001b[0m\n\u001b[0;32m   2525\u001b[0m         \u001b[0mname\u001b[0m\u001b[1;33m=\u001b[0m\u001b[0mname\u001b[0m\u001b[1;33m,\u001b[0m\u001b[1;33m\u001b[0m\u001b[1;33m\u001b[0m\u001b[0m\n",
      "\u001b[1;32mc:\\Users\\zacha\\anaconda3\\lib\\site-packages\\datasets\\load.py\u001b[0m in \u001b[0;36mload_dataset_builder\u001b[1;34m(path, name, data_dir, data_files, cache_dir, features, download_config, download_mode, revision, token, use_auth_token, storage_options, trust_remote_code, _require_default_config_name, **config_kwargs)\u001b[0m\n\u001b[0;32m   2230\u001b[0m     \u001b[0mbuilder_cls\u001b[0m \u001b[1;33m=\u001b[0m \u001b[0mget_dataset_builder_class\u001b[0m\u001b[1;33m(\u001b[0m\u001b[0mdataset_module\u001b[0m\u001b[1;33m,\u001b[0m \u001b[0mdataset_name\u001b[0m\u001b[1;33m=\u001b[0m\u001b[0mdataset_name\u001b[0m\u001b[1;33m)\u001b[0m\u001b[1;33m\u001b[0m\u001b[1;33m\u001b[0m\u001b[0m\n\u001b[0;32m   2231\u001b[0m     \u001b[1;31m# Instantiate the dataset builder\u001b[0m\u001b[1;33m\u001b[0m\u001b[1;33m\u001b[0m\u001b[0m\n\u001b[1;32m-> 2232\u001b[1;33m     builder_instance: DatasetBuilder = builder_cls(\n\u001b[0m\u001b[0;32m   2233\u001b[0m         \u001b[0mcache_dir\u001b[0m\u001b[1;33m=\u001b[0m\u001b[0mcache_dir\u001b[0m\u001b[1;33m,\u001b[0m\u001b[1;33m\u001b[0m\u001b[1;33m\u001b[0m\u001b[0m\n\u001b[0;32m   2234\u001b[0m         \u001b[0mdataset_name\u001b[0m\u001b[1;33m=\u001b[0m\u001b[0mdataset_name\u001b[0m\u001b[1;33m,\u001b[0m\u001b[1;33m\u001b[0m\u001b[1;33m\u001b[0m\u001b[0m\n",
      "\u001b[1;32mc:\\Users\\zacha\\anaconda3\\lib\\site-packages\\datasets\\builder.py\u001b[0m in \u001b[0;36m__init__\u001b[1;34m(self, cache_dir, dataset_name, config_name, hash, base_path, info, features, token, use_auth_token, repo_id, data_files, data_dir, storage_options, writer_batch_size, name, **config_kwargs)\u001b[0m\n\u001b[0;32m    380\u001b[0m             \u001b[1;31m# TODO FOR PACKAGED MODULES IT IMPORTS DATA FROM src/packaged_modules which doesn't make sense\u001b[0m\u001b[1;33m\u001b[0m\u001b[1;33m\u001b[0m\u001b[0m\n\u001b[0;32m    381\u001b[0m             \u001b[0minfo\u001b[0m \u001b[1;33m=\u001b[0m \u001b[0mself\u001b[0m\u001b[1;33m.\u001b[0m\u001b[0mget_exported_dataset_info\u001b[0m\u001b[1;33m(\u001b[0m\u001b[1;33m)\u001b[0m\u001b[1;33m\u001b[0m\u001b[1;33m\u001b[0m\u001b[0m\n\u001b[1;32m--> 382\u001b[1;33m             \u001b[0minfo\u001b[0m\u001b[1;33m.\u001b[0m\u001b[0mupdate\u001b[0m\u001b[1;33m(\u001b[0m\u001b[0mself\u001b[0m\u001b[1;33m.\u001b[0m\u001b[0m_info\u001b[0m\u001b[1;33m(\u001b[0m\u001b[1;33m)\u001b[0m\u001b[1;33m)\u001b[0m\u001b[1;33m\u001b[0m\u001b[1;33m\u001b[0m\u001b[0m\n\u001b[0m\u001b[0;32m    383\u001b[0m         \u001b[0minfo\u001b[0m\u001b[1;33m.\u001b[0m\u001b[0mbuilder_name\u001b[0m \u001b[1;33m=\u001b[0m \u001b[0mself\u001b[0m\u001b[1;33m.\u001b[0m\u001b[0mname\u001b[0m\u001b[1;33m\u001b[0m\u001b[1;33m\u001b[0m\u001b[0m\n\u001b[0;32m    384\u001b[0m         \u001b[0minfo\u001b[0m\u001b[1;33m.\u001b[0m\u001b[0mdataset_name\u001b[0m \u001b[1;33m=\u001b[0m \u001b[0mself\u001b[0m\u001b[1;33m.\u001b[0m\u001b[0mdataset_name\u001b[0m\u001b[1;33m\u001b[0m\u001b[1;33m\u001b[0m\u001b[0m\n",
      "\u001b[1;32m~\\.cache\\huggingface\\modules\\datasets_modules\\datasets\\amazon_reviews_multi\\30d298e0990e8a7e143dc917665441883d7e0b6a64516ef7eea2e89c1af1755c\\amazon_reviews_multi.py\u001b[0m in \u001b[0;36m_info\u001b[1;34m(self)\u001b[0m\n\u001b[0;32m     89\u001b[0m \u001b[1;33m\u001b[0m\u001b[0m\n\u001b[0;32m     90\u001b[0m     \u001b[1;32mdef\u001b[0m \u001b[0m_info\u001b[0m\u001b[1;33m(\u001b[0m\u001b[0mself\u001b[0m\u001b[1;33m)\u001b[0m\u001b[1;33m:\u001b[0m\u001b[1;33m\u001b[0m\u001b[1;33m\u001b[0m\u001b[0m\n\u001b[1;32m---> 91\u001b[1;33m         raise DefunctDatasetError(\n\u001b[0m\u001b[0;32m     92\u001b[0m             \u001b[1;34m\"Dataset 'amazon_reviews_multi' is defunct and no longer accessible due to the decision of data providers\"\u001b[0m\u001b[1;33m\u001b[0m\u001b[1;33m\u001b[0m\u001b[0m\n\u001b[0;32m     93\u001b[0m         )\n",
      "\u001b[1;31mDefunctDatasetError\u001b[0m: Dataset 'amazon_reviews_multi' is defunct and no longer accessible due to the decision of data providers"
     ]
    }
   ],
   "source": [
    "from datasets import load_dataset\n",
    "\n",
    "spanish_dataset = load_dataset(\"amazon_reviews_multi\", \"es\")\n",
    "english_dataset = load_dataset(\"amazon_reviews_multi\", \"en\")\n",
    "english_dataset"
   ]
  }
 ],
 "metadata": {
  "kernelspec": {
   "display_name": "base",
   "language": "python",
   "name": "python3"
  },
  "language_info": {
   "codemirror_mode": {
    "name": "ipython",
    "version": 3
   },
   "file_extension": ".py",
   "mimetype": "text/x-python",
   "name": "python",
   "nbconvert_exporter": "python",
   "pygments_lexer": "ipython3",
   "version": "3.9.13"
  }
 },
 "nbformat": 4,
 "nbformat_minor": 2
}
