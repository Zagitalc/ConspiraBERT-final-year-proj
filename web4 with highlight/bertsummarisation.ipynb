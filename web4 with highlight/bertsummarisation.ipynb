{
 "cells": [
  {
   "cell_type": "code",
   "execution_count": 35,
   "metadata": {},
   "outputs": [],
   "source": [
    "# pip install datasets[audio]\n",
    "# !pip install datasets[vision]\n",
    "# !pip install evaluate rouge_score\n",
    "# !pip install bs4\n"
   ]
  },
  {
   "cell_type": "code",
   "execution_count": null,
   "metadata": {},
   "outputs": [],
   "source": [
    "# !pip install transformers\n",
    "# !pip install torch\n",
    "# !pip install accelerate -U\n",
    "# pip install datasets\n",
    "\n",
    "#try web hosting put the website on server for user testing\n",
    "#train bert sentence by sentence\n",
    "#check the ratio of + and - sentences, check if imbalanced, add if necessary\n"
   ]
  },
  {
   "cell_type": "code",
   "execution_count": 1,
   "metadata": {},
   "outputs": [
    {
     "data": {
      "text/plain": [
       "True"
      ]
     },
     "execution_count": 1,
     "metadata": {},
     "output_type": "execute_result"
    }
   ],
   "source": [
    "import torch\n",
    "\n",
    "# If there's a GPU available...\n",
    "torch.cuda.is_available()   "
   ]
  },
  {
   "cell_type": "code",
   "execution_count": 2,
   "metadata": {},
   "outputs": [],
   "source": [
    "from datasets import load_dataset\n",
    "from bs4 import BeautifulSoup\n",
    "import requests\n",
    "\n",
    "# spanish_dataset = load_dataset(\"amazon_reviews_multi\", \"es\")\n",
    "# english_dataset = load_dataset(\"amazon_reviews_multi\", \"en\")\n",
    "# english_dataset\n",
    "\n",
    "billsum = load_dataset(\"billsum\", split=\"ca_test\")"
   ]
  },
  {
   "cell_type": "code",
   "execution_count": 3,
   "metadata": {},
   "outputs": [],
   "source": [
    "\n",
    "billsum = billsum.train_test_split(test_size=0.2)"
   ]
  },
  {
   "cell_type": "code",
   "execution_count": 4,
   "metadata": {},
   "outputs": [
    {
     "data": {
      "text/plain": [
       "{'text': 'The people of the State of California do enact as follows:\\n\\n\\nSECTION 1.\\nSection 361.8 is added to the Welfare and Institutions Code, to read:\\n361.8.\\n(a) The Legislature declares that a child of a minor parent or nonminor dependent parent shall not be considered to be at risk of abuse or neglect solely on the basis of information concerning the parent’s or parents’ placement history, past behaviors, or health or mental health diagnoses occurring prior to the pregnancy, although that information may be taken into account when considering whether other factors exist that place the child at risk of abuse or neglect.\\n(b) In the case of a child for whom one or both minor parents have been adjudged to be dependent children of the juvenile court pursuant to Section 300, all of the following shall apply:\\n(1) Paragraphs (10) and (11) of subdivision (b) of Section 361.5 shall not apply, unless one or more of the circumstances described in paragraphs (1) to (9), inclusive, and paragraphs (12) to (16), inclusive, of subdivision (b) of Section 361.5 apply.\\n(2) A party seeking an involuntary foster care placement of, or termination of parental rights over, a child born to a parent or parents who were minors at the time of the child’s birth shall demonstrate to the court that reasonable efforts were made to provide remedial services designed to prevent the removal of the child from the minor parent or parents, and that these efforts have proved unsuccessful.\\n(3) The efforts made pursuant to paragraph (2) shall utilize the available resources of the child and his or her minor parent’s or parents’ extended family, social services agencies, caregivers, and other available service providers.\\n(c) For purposes of this section, “child” and “minor parent” shall have the same definitions as set forth in Section 16002.5.\\nSEC. 2.\\nSection 825.5 is added to the Welfare and Institutions Code, to read:\\n825.5.\\n(a) The clerk of the superior court shall maintain court files and records concerning a minor dependent parent or a nonminor dependent parent of a child who is the subject of a dependency petition separate from court files and records concerning the child.\\n(b) (1) Dependency court records concerning a minor dependent parent or a nonminor dependent parent may be disclosed to the county and the court in the child’s dependency proceedings; however, information from the records shall only be admitted as evidence in the child’s dependency proceedings pursuant to a court order finding that the information is materially relevant to the case, subject to the provisions of subdivision (a) of Section 361.8.\\n(2) Any party to the child’s dependency proceedings may request the admittance of the records described in paragraph (1) as evidence at any stage of the child’s dependency proceedings.\\nSEC. 3.\\nSection 16002.5 of the Welfare and Institutions Code is amended to read:\\n16002.5.\\nIt is the intent of the Legislature to maintain the continuity of the family unit and to support and preserve families headed by minor parents and nonminor dependent parents who are themselves under the jurisdiction of the juvenile court by ensuring that minor parents and nonminor dependent parents and their children are placed together in as family-like a setting as possible, unless it has been determined that placement together poses a risk to the child. It is also the intent of the Legislature to ensure that complete and accurate data on parenting minor and nonminor dependents is collected, and that the State Department of Social Services shall ensure that the following information is publicly available on a quarterly basis by county about parenting minor and nonminor dependents: total number of parenting minor and nonminor dependents in each county, their age, their ethnic group, their placement type, their time in care, the number of children they have, and whether their children are court dependents.\\n(a) To the greatest extent possible, minor parents and nonminor dependent parents and their children shall be provided with access to existing services for which they may be eligible, that are specifically targeted at supporting, maintaining, and developing both the parent-child bond and the dependent parent’s ability to provide a permanent and safe home for the child. Examples of these services may include, but are not limited to, child care, parenting classes, child development classes, and frequent visitation.\\n(b) Child welfare agencies may provide minor parents and nonminor dependent parents with access to social workers or resource specialists who have received training on the needs of teenage parents and available resources, including, but not limited to, maternal and child health programs, child care, and child development classes. Child welfare agencies are encouraged to update the case plans for pregnant and parenting dependents within 60 calendar days of the date the agency is informed of a pregnancy. When updating the case plan, child welfare agencies may hold a specialized conference to assist pregnant or parenting foster youth and nonminor dependents with planning for healthy parenting and identifying appropriate resources and services, and to inform the case plan. The specialized conference shall include the pregnant or parenting minor or nonminor dependent, family members, and other supportive adults, and the specially trained social worker or resource specialist. The specialized conference may include other individuals, including, but not limited to, a public health nurse, a community health worker, or other personnel with a comprehensive knowledge of available maternal and child resources, including public benefit programs. Participation in the specialized conference shall be voluntary on the part of the foster youth or nonminor dependent and assistance in identifying and accessing resources shall not be dependent on participation in the conference.\\n(c) The minor parents and nonminor dependent parents shall be given the ability to attend school, complete homework, and participate in age and developmentally appropriate activities unrelated to and separate from parenting.\\n(d) Child welfare agencies, local educational agencies, and child care resource and referral agencies may make reasonable and coordinated efforts to ensure that minor parents and nonminor dependent parents who have not completed high school have access to school programs that provide onsite or coordinated child care.\\n(e) Foster care placements for minor parents and nonminor dependent parents and their children shall demonstrate a willingness and ability to provide support and assistance to minor parents and nonminor dependent parents and their children, shall support the preservation of the family unit, and shall refer a minor parent or nonminor dependent parent to preventive services to address any concerns regarding the safety, health, or well-being of the child, and to help prevent, whenever possible, the filing of a petition to declare the child a dependent of the juvenile court pursuant to Section 300.\\n(f) Contact between the child, the custodial parent, and the noncustodial parent shall be facilitated if that contact is found to be in the best interest of the child.\\n(g) For the purpose of this section, “child” refers to the child born to the minor parent.\\n(h) For the purpose of this section, “minor parent” refers to a dependent child who is also a parent.\\n(i) For the purpose of this section, “nonminor dependent parent” refers to a nonminor dependent, as described in subdivision (v) of Section 11400, who also is a parent.\\nSEC. 4.\\nIf the Commission on State Mandates determines that this act contains costs mandated by the state, reimbursement to local agencies and school districts for those costs shall be made pursuant to Part 7 (commencing with Section 17500) of Division 4 of Title 2 of the Government Code.',\n",
       " 'summary': 'Existing law establishes the jurisdiction of the juvenile court, which may adjudge a child to be a dependent of the court under certain circumstances, including when the child has been left without any provision for support or when a parent or guardian fails to provide the child with adequate food, clothing, shelter, or medical treatment. Existing law provides that the Legislature declares that a child whose parent has been adjudged a dependent child of the court shall not be considered at risk of abuse or neglect solely because of the age, dependent status, or foster care status of the parent.\\nThis bill would additionally declare that a child whose parent has been adjudged a dependent child of the court shall not be considered at risk of abuse or neglect solely on the basis of information concerning the parent’s placement history, past behaviors, health or mental health diagnoses occurring prior to the pregnancy, except as specified.\\nExisting law provides that reunification services need not be provided to the family of a dependent child under certain circumstances.\\nThis bill would enact certain exceptions to that provision that would apply in the case of a child for whom one or both minor parents have been adjudged to be dependent children of the juvenile court, thereby providing the family access to reunification services. The bill would also require, in those cases, a party seeking an involuntary foster care placement of, or termination of parental rights over, a child born to a parent or parents who were minors at the time of the child’s birth to demonstrate to the court that reasonable efforts were made to provide remedial services designed to prevent the removal of the child from the minor parent or parents, that these efforts have proved unsuccessful, and that those efforts utilize the available resources of the child and his or her minor parent or parents extended family, social services agencies, caregivers, and other available service providers. By imposing a higher level of service on county employees, the bill would impose a state-mandated local program.\\nExisting law requires the clerk of the superior court to open a separate court file for nonminor dependents under the dependency, delinquency, or transition jurisdiction of the court and limits access to those files.\\nThis bill would require the clerk of the superior court to maintain court files and records concerning a minor dependent parent or a nonminor dependent parent separate from court files and records concerning his or her child, as specified. The bill would authorize dependency court records concerning a minor dependent parent or a nonminor dependent parent to be disclosed to the county and the court in the child’s dependency proceedings, but would require information from the records to only be admitted as evidence in the child’s dependency proceedings pursuant to a certain court order. The bill would authorize any party to the child’s dependency proceedings to request the admittance of the records concerning a minor dependent parent or a nonminor dependent parent as evidence at any stage of the child’s dependency proceedings.\\nExisting law declares the intent of the Legislature to maintain the continuity of the family unit and to support and preserve families headed by minor dependent parents and nonminor dependent parents. Existing law requires foster care placements for minor parents and their children to demonstrate a willingness and ability to provide support and assistance to minor parents and their children.\\nThis bill would additionally require those foster care placements to support the preservation of the family unit and to refer a minor dependent parent or nonminor dependent parent to preventive services to address any concerns regarding the safety, health, or well-being of the child, and to help prevent, whenever possible, the filing of a petition to declare the child a dependent of the juvenile court.\\nThe California Constitution requires the state to reimburse local agencies and school districts for certain costs mandated by the state. Statutory provisions establish procedures for making that reimbursement.\\nThis bill would provide that, if the Commission on State Mandates determines that the bill contains costs mandated by the state, reimbursement for those costs shall be made pursuant to these statutory provisions.',\n",
       " 'title': 'An act to amend Section 16002.5 of, and to add Sections 361.8 and 825.5 to, the Welfare and Institutions Code, relating to foster care.'}"
      ]
     },
     "execution_count": 4,
     "metadata": {},
     "output_type": "execute_result"
    }
   ],
   "source": [
    "billsum[\"train\"][0]"
   ]
  },
  {
   "cell_type": "code",
   "execution_count": 5,
   "metadata": {},
   "outputs": [],
   "source": [
    "from transformers import AutoTokenizer\n",
    "\n",
    "checkpoint = \"t5-small\"\n",
    "tokenizer = AutoTokenizer.from_pretrained(checkpoint)"
   ]
  },
  {
   "cell_type": "code",
   "execution_count": 15,
   "metadata": {},
   "outputs": [],
   "source": [
    "prefix = \"summarize: \"\n",
    "\n",
    "\n",
    "def preprocess_function(examples):\n",
    "    inputs = [prefix + doc for doc in examples[\"text\"]]\n",
    "    model_inputs = tokenizer(inputs, max_length=1024, truncation=True)\n",
    "\n",
    "    labels = tokenizer(text_target=examples[\"summary\"], max_length=128, truncation=True)\n",
    "\n",
    "    model_inputs[\"labels\"] = labels[\"input_ids\"]\n",
    "    return model_inputs"
   ]
  },
  {
   "cell_type": "code",
   "execution_count": 16,
   "metadata": {},
   "outputs": [
    {
     "name": "stderr",
     "output_type": "stream",
     "text": [
      "Parameter 'function'=<function preprocess_function at 0x00000235B77FBE50> of the transform datasets.arrow_dataset.Dataset._map_single couldn't be hashed properly, a random hash was used instead. Make sure your transforms and parameters are serializable with pickle or dill for the dataset fingerprinting and caching to work. If you reuse this transform, the caching mechanism will consider it to be different from the previous calls and recompute everything. This warning is only showed once. Subsequent hashing failures won't be showed.\n"
     ]
    },
    {
     "data": {
      "application/vnd.jupyter.widget-view+json": {
       "model_id": "3c0d69006d2b417ca40d4b97f59dba79",
       "version_major": 2,
       "version_minor": 0
      },
      "text/plain": [
       "Map:   0%|          | 0/989 [00:00<?, ? examples/s]"
      ]
     },
     "metadata": {},
     "output_type": "display_data"
    },
    {
     "data": {
      "application/vnd.jupyter.widget-view+json": {
       "model_id": "92d7398be2b74867ad2d54a79c8e71cf",
       "version_major": 2,
       "version_minor": 0
      },
      "text/plain": [
       "Map:   0%|          | 0/248 [00:00<?, ? examples/s]"
      ]
     },
     "metadata": {},
     "output_type": "display_data"
    }
   ],
   "source": [
    "tokenized_billsum = billsum.map(preprocess_function, batched=True)"
   ]
  },
  {
   "cell_type": "code",
   "execution_count": 17,
   "metadata": {},
   "outputs": [],
   "source": [
    "from transformers import DataCollatorForSeq2Seq\n",
    "\n",
    "data_collator = DataCollatorForSeq2Seq(tokenizer=tokenizer, model=checkpoint)"
   ]
  },
  {
   "cell_type": "code",
   "execution_count": 18,
   "metadata": {},
   "outputs": [
    {
     "data": {
      "application/vnd.jupyter.widget-view+json": {
       "model_id": "357b9719e4424b56b104dcbcf4667182",
       "version_major": 2,
       "version_minor": 0
      },
      "text/plain": [
       "Downloading builder script:   0%|          | 0.00/6.27k [00:00<?, ?B/s]"
      ]
     },
     "metadata": {},
     "output_type": "display_data"
    }
   ],
   "source": [
    "import evaluate\n",
    "\n",
    "rouge = evaluate.load(\"rouge\")"
   ]
  },
  {
   "cell_type": "code",
   "execution_count": 19,
   "metadata": {},
   "outputs": [],
   "source": [
    "import numpy as np\n",
    "\n",
    "\n",
    "def compute_metrics(eval_pred):\n",
    "    predictions, labels = eval_pred\n",
    "    decoded_preds = tokenizer.batch_decode(predictions, skip_special_tokens=True)\n",
    "    labels = np.where(labels != -100, labels, tokenizer.pad_token_id)\n",
    "    decoded_labels = tokenizer.batch_decode(labels, skip_special_tokens=True)\n",
    "\n",
    "    result = rouge.compute(predictions=decoded_preds, references=decoded_labels, use_stemmer=True)\n",
    "\n",
    "    prediction_lens = [np.count_nonzero(pred != tokenizer.pad_token_id) for pred in predictions]\n",
    "    result[\"gen_len\"] = np.mean(prediction_lens)\n",
    "\n",
    "    return {k: round(v, 4) for k, v in result.items()}"
   ]
  },
  {
   "cell_type": "code",
   "execution_count": 20,
   "metadata": {},
   "outputs": [
    {
     "data": {
      "application/vnd.jupyter.widget-view+json": {
       "model_id": "0406acd3d88b4294ab37b87572da5029",
       "version_major": 2,
       "version_minor": 0
      },
      "text/plain": [
       "config.json:   0%|          | 0.00/1.21k [00:00<?, ?B/s]"
      ]
     },
     "metadata": {},
     "output_type": "display_data"
    },
    {
     "data": {
      "application/vnd.jupyter.widget-view+json": {
       "model_id": "5d41a683500f4f15bbf418ae35d5a3d8",
       "version_major": 2,
       "version_minor": 0
      },
      "text/plain": [
       "model.safetensors:   0%|          | 0.00/242M [00:00<?, ?B/s]"
      ]
     },
     "metadata": {},
     "output_type": "display_data"
    },
    {
     "data": {
      "application/vnd.jupyter.widget-view+json": {
       "model_id": "ff40905cbb884d7a98037be1397a33fa",
       "version_major": 2,
       "version_minor": 0
      },
      "text/plain": [
       "generation_config.json:   0%|          | 0.00/147 [00:00<?, ?B/s]"
      ]
     },
     "metadata": {},
     "output_type": "display_data"
    }
   ],
   "source": [
    "#train the model\n",
    "from transformers import AutoModelForSeq2SeqLM, Seq2SeqTrainingArguments, Seq2SeqTrainer\n",
    "\n",
    "model = AutoModelForSeq2SeqLM.from_pretrained(checkpoint)"
   ]
  },
  {
   "cell_type": "code",
   "execution_count": 21,
   "metadata": {},
   "outputs": [
    {
     "data": {
      "application/vnd.jupyter.widget-view+json": {
       "model_id": "a3f3da862e54492394c86e028a836af6",
       "version_major": 2,
       "version_minor": 0
      },
      "text/plain": [
       "  0%|          | 0/248 [00:00<?, ?it/s]"
      ]
     },
     "metadata": {},
     "output_type": "display_data"
    },
    {
     "name": "stderr",
     "output_type": "stream",
     "text": [
      "You're using a T5TokenizerFast tokenizer. Please note that with a fast tokenizer, using the `__call__` method is faster than using a method to encode the text followed by a call to the `pad` method to get a padded encoding.\n",
      "c:\\Users\\zacha\\anaconda3\\lib\\site-packages\\transformers\\generation\\utils.py:1273: UserWarning: Using the model-agnostic default `max_length` (=20) to control the generation length. We recommend setting `max_new_tokens` to control the maximum length of the generation.\n",
      "  warnings.warn(\n"
     ]
    },
    {
     "data": {
      "application/vnd.jupyter.widget-view+json": {
       "model_id": "8b5087e0166f4623b5fcfc1150842e70",
       "version_major": 2,
       "version_minor": 0
      },
      "text/plain": [
       "  0%|          | 0/16 [00:00<?, ?it/s]"
      ]
     },
     "metadata": {},
     "output_type": "display_data"
    },
    {
     "name": "stdout",
     "output_type": "stream",
     "text": [
      "{'eval_loss': 2.7724201679229736, 'eval_rouge1': 0.1278, 'eval_rouge2': 0.0384, 'eval_rougeL': 0.1075, 'eval_rougeLsum': 0.1076, 'eval_gen_len': 19.0, 'eval_runtime': 223.9382, 'eval_samples_per_second': 1.107, 'eval_steps_per_second': 0.071, 'epoch': 1.0}\n"
     ]
    },
    {
     "data": {
      "application/vnd.jupyter.widget-view+json": {
       "model_id": "6d6a4dd1236847059bb828942124c603",
       "version_major": 2,
       "version_minor": 0
      },
      "text/plain": [
       "  0%|          | 0/16 [00:00<?, ?it/s]"
      ]
     },
     "metadata": {},
     "output_type": "display_data"
    },
    {
     "name": "stdout",
     "output_type": "stream",
     "text": [
      "{'eval_loss': 2.5578396320343018, 'eval_rouge1': 0.1373, 'eval_rouge2': 0.0498, 'eval_rougeL': 0.1152, 'eval_rougeLsum': 0.1151, 'eval_gen_len': 19.0, 'eval_runtime': 220.6434, 'eval_samples_per_second': 1.124, 'eval_steps_per_second': 0.073, 'epoch': 2.0}\n"
     ]
    },
    {
     "data": {
      "application/vnd.jupyter.widget-view+json": {
       "model_id": "b83bf1a334db47b8ac2d3ed78f23bb61",
       "version_major": 2,
       "version_minor": 0
      },
      "text/plain": [
       "  0%|          | 0/16 [00:00<?, ?it/s]"
      ]
     },
     "metadata": {},
     "output_type": "display_data"
    },
    {
     "name": "stdout",
     "output_type": "stream",
     "text": [
      "{'eval_loss': 2.4929006099700928, 'eval_rouge1': 0.1437, 'eval_rouge2': 0.0542, 'eval_rougeL': 0.1188, 'eval_rougeLsum': 0.1191, 'eval_gen_len': 19.0, 'eval_runtime': 220.7011, 'eval_samples_per_second': 1.124, 'eval_steps_per_second': 0.072, 'epoch': 3.0}\n"
     ]
    },
    {
     "data": {
      "application/vnd.jupyter.widget-view+json": {
       "model_id": "040f30a8aef0498e9ad75f32bee94b15",
       "version_major": 2,
       "version_minor": 0
      },
      "text/plain": [
       "  0%|          | 0/16 [00:00<?, ?it/s]"
      ]
     },
     "metadata": {},
     "output_type": "display_data"
    },
    {
     "name": "stdout",
     "output_type": "stream",
     "text": [
      "{'eval_loss': 2.4772226810455322, 'eval_rouge1': 0.1454, 'eval_rouge2': 0.0554, 'eval_rougeL': 0.1213, 'eval_rougeLsum': 0.1216, 'eval_gen_len': 19.0, 'eval_runtime': 221.2075, 'eval_samples_per_second': 1.121, 'eval_steps_per_second': 0.072, 'epoch': 4.0}\n",
      "{'train_runtime': 2947.3396, 'train_samples_per_second': 1.342, 'train_steps_per_second': 0.084, 'train_loss': 3.0322592950636342, 'epoch': 4.0}\n"
     ]
    },
    {
     "data": {
      "text/plain": [
       "TrainOutput(global_step=248, training_loss=3.0322592950636342, metrics={'train_runtime': 2947.3396, 'train_samples_per_second': 1.342, 'train_steps_per_second': 0.084, 'train_loss': 3.0322592950636342, 'epoch': 4.0})"
      ]
     },
     "execution_count": 21,
     "metadata": {},
     "output_type": "execute_result"
    }
   ],
   "source": [
    "training_args = Seq2SeqTrainingArguments(\n",
    "    output_dir=\"my_awesome_billsum_model\",\n",
    "    evaluation_strategy=\"epoch\",\n",
    "    learning_rate=2e-5,\n",
    "    per_device_train_batch_size=16,\n",
    "    per_device_eval_batch_size=16,\n",
    "    weight_decay=0.01,\n",
    "    save_total_limit=3,\n",
    "    num_train_epochs=4,\n",
    "    predict_with_generate=True,\n",
    "    fp16=True,\n",
    "    push_to_hub=False,\n",
    ")\n",
    "\n",
    "trainer = Seq2SeqTrainer(\n",
    "    model=model,\n",
    "    args=training_args,\n",
    "    train_dataset=tokenized_billsum[\"train\"],\n",
    "    eval_dataset=tokenized_billsum[\"test\"],\n",
    "    tokenizer=tokenizer,\n",
    "    data_collator=data_collator,\n",
    "    compute_metrics=compute_metrics,\n",
    ")\n",
    "\n",
    "trainer.train()\n",
    "\n",
    "\n",
    "\n",
    "\n"
   ]
  },
  {
   "cell_type": "code",
   "execution_count": 67,
   "metadata": {},
   "outputs": [
    {
     "name": "stderr",
     "output_type": "stream",
     "text": [
      "c:\\Users\\zacha\\anaconda3\\lib\\site-packages\\transformers\\generation\\utils.py:1273: UserWarning: Using the model-agnostic default `max_length` (=20) to control the generation length. We recommend setting `max_new_tokens` to control the maximum length of the generation.\n",
      "  warnings.warn(\n"
     ]
    },
    {
     "data": {
      "application/vnd.jupyter.widget-view+json": {
       "model_id": "572c7bd0076542c1a70b12bb987345d9",
       "version_major": 2,
       "version_minor": 0
      },
      "text/plain": [
       "  0%|          | 0/16 [00:00<?, ?it/s]"
      ]
     },
     "metadata": {},
     "output_type": "display_data"
    },
    {
     "name": "stdout",
     "output_type": "stream",
     "text": [
      "{'eval_loss': 2.4772226810455322, 'eval_rouge1': 0.1454, 'eval_rouge2': 0.0554, 'eval_rougeL': 0.1213, 'eval_rougeLsum': 0.1216, 'eval_gen_len': 19.0, 'eval_runtime': 218.4295, 'eval_samples_per_second': 1.135, 'eval_steps_per_second': 0.073, 'epoch': 4.0}\n"
     ]
    }
   ],
   "source": [
    "trainer.save_model(\"summodels\")\n",
    "# Evaluate the model\n",
    "eval_results = trainer.evaluate()\n",
    "print(eval_results)\n",
    "#aas of \n",
    "#{'eval_loss': 2.4772226810455322, 'eval_rouge1': 0.1454,\n",
    "#  'eval_rouge2': 0.0554, 'eval_rougeL': 0.1213, 'eval_rougeLsum': 0.1216,\n",
    "#  'eval_gen_len': 19.0, 'eval_runtime': 218.4295, 'eval_samples_per_second': 1.135, 'eval_steps_per_second': 0.073, 'epoch': 4.0}"
   ]
  },
  {
   "cell_type": "code",
   "execution_count": 25,
   "metadata": {},
   "outputs": [],
   "source": [
    "import evaluate\n",
    "\n",
    "rouge_score = evaluate.load(\"rouge\")"
   ]
  },
  {
   "cell_type": "code",
   "execution_count": 26,
   "metadata": {},
   "outputs": [],
   "source": [
    "\n",
    "# list of sample urls for input\n",
    "# URL=\"https://www.snopes.com/fact-check/strikes-on-yemen-image/\"\n",
    "# URL='https://www.dagens.com/news/russia-outraged-after-major-attack'\n",
    "# URL='https://www.snopes.com/fact-check/toyota-tundra-giveaway/'\n",
    "URL='https://content.time.com/time/specials/packages/article/0,28804,1860871_1860876_1861013,00.html'"
   ]
  },
  {
   "cell_type": "code",
   "execution_count": 27,
   "metadata": {},
   "outputs": [],
   "source": [
    "from transformers import pipeline\n",
    "\n",
    "summarizer = pipeline(\"summarization\", model=\"summodels\")\n"
   ]
  },
  {
   "cell_type": "code",
   "execution_count": 28,
   "metadata": {},
   "outputs": [],
   "source": [
    "# reference from https://github.com/nicknochnack/Longform-Summarization-with-Hugging-Face/blob/main/LongSummarization.ipynb\n",
    "r = requests.get(URL)\n",
    "soup = BeautifulSoup(r.text, 'html.parser')\n",
    "results = soup.find_all(['h1', 'p'])\n",
    "text = [result.text for result in results]\n",
    "ARTICLE = ' '.join(text)"
   ]
  },
  {
   "cell_type": "code",
   "execution_count": 30,
   "metadata": {},
   "outputs": [
    {
     "name": "stdout",
     "output_type": "stream",
     "text": [
      "0\n"
     ]
    }
   ],
   "source": [
    "ARTICLE\n",
    "max_chunk = 500\n",
    "ARTICLE = ARTICLE.replace('.', '.<eos>')\n",
    "ARTICLE = ARTICLE.replace('?', '?<eos>')\n",
    "ARTICLE = ARTICLE.replace('!', '!<eos>')\n",
    "sentences = ARTICLE.split('<eos>')\n",
    "current_chunk = 0 \n",
    "chunks = []\n",
    "for sentence in sentences:\n",
    "    if len(chunks) == current_chunk + 1: \n",
    "        if len(chunks[current_chunk]) + len(sentence.split(' ')) <= max_chunk:\n",
    "            chunks[current_chunk].extend(sentence.split(' '))\n",
    "        else:\n",
    "            current_chunk += 1\n",
    "            chunks.append(sentence.split(' '))\n",
    "    else:\n",
    "        print(current_chunk)\n",
    "        chunks.append(sentence.split(' '))\n",
    "\n",
    "for chunk_id in range(len(chunks)):\n",
    "    chunks[chunk_id] = ' '.join(chunks[chunk_id])\n"
   ]
  },
  {
   "cell_type": "code",
   "execution_count": 31,
   "metadata": {},
   "outputs": [
    {
     "name": "stderr",
     "output_type": "stream",
     "text": [
      "Token indices sequence length is longer than the specified maximum sequence length for this model (586 > 512). Running this sequence through the model will result in indexing errors\n"
     ]
    },
    {
     "name": "stdout",
     "output_type": "stream",
     "text": [
      "TIME looks at 10 of the world's most enduring conspiracy theories 2 of 10 Not since the JFK assassination has there been a national tragedy so heavily imprinted in American minds — or that has given rise to quite as many alternative explanations . videos and photographs of the two planes striking the World Trade Center towers are famous around the world, the sheer profusion of documentary evidence has only provided even more fodder for conspiracy theories .\n"
     ]
    }
   ],
   "source": [
    "res = summarizer(chunks, max_length=300, min_length=50, do_sample=False)\n",
    "# print(summarizer(text))\n",
    "' '.join([summ['summary_text'] for summ in res])\n",
    "text = ' '.join([summ['summary_text'] for summ in res])\n",
    "print (text)\n"
   ]
  }
 ],
 "metadata": {
  "kernelspec": {
   "display_name": "base",
   "language": "python",
   "name": "python3"
  },
  "language_info": {
   "codemirror_mode": {
    "name": "ipython",
    "version": 3
   },
   "file_extension": ".py",
   "mimetype": "text/x-python",
   "name": "python",
   "nbconvert_exporter": "python",
   "pygments_lexer": "ipython3",
   "version": "3.9.13"
  }
 },
 "nbformat": 4,
 "nbformat_minor": 2
}
